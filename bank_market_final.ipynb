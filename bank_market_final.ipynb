{
 "cells": [
  {
   "cell_type": "markdown",
   "metadata": {},
   "source": [
    "Bank Marketing: The data is related with direct marketing campaigns of a Portuguese banking institution. The marketing campaigns were based on phone calls. Often, more than one contact to the same client was required, in order to access if the product (bank term deposit) would be (or not) subscribed. The classification goal is to predict if the client will subscribe a term deposit (variable y).\n",
    "\n",
    "Attribute information\n",
    "\n",
    "For more information, read [Moro et al., 2011]. Input variables:- bank client data:\n",
    "\n",
    "1 - age (numeric)\n",
    "\n",
    "2 - job : type of job (categorical: \"admin.\",\"unknown\",\"unemployed\",\"management\",\"housemaid\",\"entrepreneur\", \"student\",\"bluecollar\",\"self-employed\",\"retired\",\"technician\",\"services\")\n",
    "\n",
    "3 - marital : marital status (categorical: \"married\",\"divorced\",\"single\"; note: \"divorced\" means divorced or widowed)\n",
    "\n",
    "4 - education (categorical: \"unknown\",\"secondary\",\"primary\",\"tertiary\")\n",
    "\n",
    "5 - default: has credit in default? (binary: \"yes\",\"no\")\n",
    "\n",
    "6 - balance: average yearly balance, in euros (numeric)\n",
    "\n",
    "7 - housing: has housing loan? (binary: \"yes\",\"no\")\n",
    "\n",
    "8 - loan: has personal loan? (binary: \"yes\",\"no\")\n",
    "\n",
    "related with the last contact of the current campaign:\n",
    "\n",
    "9 - contact: contact communication type (categorical: \"unknown\",\"telephone\",\"cellular\")\n",
    "\n",
    "10 - day: last contact day of the month (numeric)\n",
    "\n",
    "11 - month: last contact month of year (categorical: \"jan\", \"feb\", \"mar\", ..., \"nov\", \"dec\")\n",
    "\n",
    "12 - duration: last contact duration, in seconds (numeric)\n",
    "\n",
    "other attributes:\n",
    "\n",
    "13 - campaign: number of contacts performed during this campaign and for this client (numeric, includes last contact)\n",
    "\n",
    "Bank-Marketing\n",
    "\n",
    "14 - pdays: number of days that passed by after the client was last contacted from a previous campaign (numeric, -1 means client was not previously contacted)\n",
    "\n",
    "15 - previous: number of contacts performed before this campaign and for this client (numeric)\n",
    "\n",
    "16 - poutcome: outcome of the previous marketing campaign (categorical: \"unknown\",\"other\",\"failure\",\"success\")\n",
    "\n",
    "output variable (desired target):\n",
    "\n",
    "17 - y - has the client subscribed a term deposit? (binary: \"yes\",\"no\")"
   ]
  },
  {
   "cell_type": "code",
   "execution_count": 45,
   "metadata": {},
   "outputs": [],
   "source": [
    "#import the libraries\n",
    "import numpy as np\n",
    "import pandas as pd\n",
    "import matplotlib.pyplot as plt\n",
    "import seaborn as sb\n",
    "# to suppress warnings \n",
    "from warnings import filterwarnings\n",
    "filterwarnings('ignore')\n",
    "\n",
    "# import various functions from statsmodels\n",
    "import statsmodels\n",
    "import statsmodels.api as sm\n",
    "from statsmodels.stats.outliers_influence import variance_inflation_factor\n",
    "\n",
    "# import various functions from sklearn \n",
    "from sklearn import metrics\n",
    "from sklearn.preprocessing import StandardScaler,OneHotEncoder\n",
    "\n",
    "from sklearn.linear_model import LogisticRegression\n",
    "from sklearn.metrics import classification_report\n",
    "from sklearn.metrics import cohen_kappa_score\n",
    "from sklearn.metrics import confusion_matrix\n",
    "from sklearn.metrics import roc_curve\n",
    "from sklearn.metrics import accuracy_score\n",
    "from sklearn.metrics import f1_score\n",
    "from sklearn.metrics import log_loss\n",
    "from sklearn.neighbors import KNeighborsClassifier\n",
    "from sklearn.naive_bayes import GaussianNB\n",
    "from sklearn.model_selection import GridSearchCV,cross_val_score\n",
    "from sklearn.tree import DecisionTreeClassifier\n",
    "from sklearn import tree\n",
    "from sklearn.ensemble import RandomForestClassifier,BaggingClassifier"
   ]
  },
  {
   "cell_type": "code",
   "execution_count": 46,
   "metadata": {},
   "outputs": [
    {
     "data": {
      "text/html": [
       "<div>\n",
       "<style scoped>\n",
       "    .dataframe tbody tr th:only-of-type {\n",
       "        vertical-align: middle;\n",
       "    }\n",
       "\n",
       "    .dataframe tbody tr th {\n",
       "        vertical-align: top;\n",
       "    }\n",
       "\n",
       "    .dataframe thead th {\n",
       "        text-align: right;\n",
       "    }\n",
       "</style>\n",
       "<table border=\"1\" class=\"dataframe\">\n",
       "  <thead>\n",
       "    <tr style=\"text-align: right;\">\n",
       "      <th></th>\n",
       "      <th>V1</th>\n",
       "      <th>V2</th>\n",
       "      <th>V3</th>\n",
       "      <th>V4</th>\n",
       "      <th>V5</th>\n",
       "      <th>V6</th>\n",
       "      <th>V7</th>\n",
       "      <th>V8</th>\n",
       "      <th>V9</th>\n",
       "      <th>V10</th>\n",
       "      <th>V11</th>\n",
       "      <th>V12</th>\n",
       "      <th>V13</th>\n",
       "      <th>V14</th>\n",
       "      <th>V15</th>\n",
       "      <th>V16</th>\n",
       "      <th>Class</th>\n",
       "    </tr>\n",
       "  </thead>\n",
       "  <tbody>\n",
       "    <tr>\n",
       "      <td>0</td>\n",
       "      <td>58</td>\n",
       "      <td>management</td>\n",
       "      <td>married</td>\n",
       "      <td>tertiary</td>\n",
       "      <td>no</td>\n",
       "      <td>2143</td>\n",
       "      <td>yes</td>\n",
       "      <td>no</td>\n",
       "      <td>unknown</td>\n",
       "      <td>5</td>\n",
       "      <td>may</td>\n",
       "      <td>261</td>\n",
       "      <td>1</td>\n",
       "      <td>-1</td>\n",
       "      <td>0</td>\n",
       "      <td>unknown</td>\n",
       "      <td>1</td>\n",
       "    </tr>\n",
       "    <tr>\n",
       "      <td>1</td>\n",
       "      <td>44</td>\n",
       "      <td>technician</td>\n",
       "      <td>single</td>\n",
       "      <td>secondary</td>\n",
       "      <td>no</td>\n",
       "      <td>29</td>\n",
       "      <td>yes</td>\n",
       "      <td>no</td>\n",
       "      <td>unknown</td>\n",
       "      <td>5</td>\n",
       "      <td>may</td>\n",
       "      <td>151</td>\n",
       "      <td>1</td>\n",
       "      <td>-1</td>\n",
       "      <td>0</td>\n",
       "      <td>unknown</td>\n",
       "      <td>1</td>\n",
       "    </tr>\n",
       "    <tr>\n",
       "      <td>2</td>\n",
       "      <td>33</td>\n",
       "      <td>entrepreneur</td>\n",
       "      <td>married</td>\n",
       "      <td>secondary</td>\n",
       "      <td>no</td>\n",
       "      <td>2</td>\n",
       "      <td>yes</td>\n",
       "      <td>yes</td>\n",
       "      <td>unknown</td>\n",
       "      <td>5</td>\n",
       "      <td>may</td>\n",
       "      <td>76</td>\n",
       "      <td>1</td>\n",
       "      <td>-1</td>\n",
       "      <td>0</td>\n",
       "      <td>unknown</td>\n",
       "      <td>1</td>\n",
       "    </tr>\n",
       "    <tr>\n",
       "      <td>3</td>\n",
       "      <td>47</td>\n",
       "      <td>blue-collar</td>\n",
       "      <td>married</td>\n",
       "      <td>unknown</td>\n",
       "      <td>no</td>\n",
       "      <td>1506</td>\n",
       "      <td>yes</td>\n",
       "      <td>no</td>\n",
       "      <td>unknown</td>\n",
       "      <td>5</td>\n",
       "      <td>may</td>\n",
       "      <td>92</td>\n",
       "      <td>1</td>\n",
       "      <td>-1</td>\n",
       "      <td>0</td>\n",
       "      <td>unknown</td>\n",
       "      <td>1</td>\n",
       "    </tr>\n",
       "    <tr>\n",
       "      <td>4</td>\n",
       "      <td>33</td>\n",
       "      <td>unknown</td>\n",
       "      <td>single</td>\n",
       "      <td>unknown</td>\n",
       "      <td>no</td>\n",
       "      <td>1</td>\n",
       "      <td>no</td>\n",
       "      <td>no</td>\n",
       "      <td>unknown</td>\n",
       "      <td>5</td>\n",
       "      <td>may</td>\n",
       "      <td>198</td>\n",
       "      <td>1</td>\n",
       "      <td>-1</td>\n",
       "      <td>0</td>\n",
       "      <td>unknown</td>\n",
       "      <td>1</td>\n",
       "    </tr>\n",
       "  </tbody>\n",
       "</table>\n",
       "</div>"
      ],
      "text/plain": [
       "   V1            V2       V3         V4  V5    V6   V7   V8       V9  V10  \\\n",
       "0  58    management  married   tertiary  no  2143  yes   no  unknown    5   \n",
       "1  44    technician   single  secondary  no    29  yes   no  unknown    5   \n",
       "2  33  entrepreneur  married  secondary  no     2  yes  yes  unknown    5   \n",
       "3  47   blue-collar  married    unknown  no  1506  yes   no  unknown    5   \n",
       "4  33       unknown   single    unknown  no     1   no   no  unknown    5   \n",
       "\n",
       "   V11  V12  V13  V14  V15      V16  Class  \n",
       "0  may  261    1   -1    0  unknown      1  \n",
       "1  may  151    1   -1    0  unknown      1  \n",
       "2  may   76    1   -1    0  unknown      1  \n",
       "3  may   92    1   -1    0  unknown      1  \n",
       "4  may  198    1   -1    0  unknown      1  "
      ]
     },
     "execution_count": 46,
     "metadata": {},
     "output_type": "execute_result"
    }
   ],
   "source": [
    "bank=pd.read_csv('C:\\\\Users\\\\Dell\\\\Downloads\\\\Bank_Marketing_Data_Set.csv')\n",
    "bank.head(5)"
   ]
  },
  {
   "cell_type": "code",
   "execution_count": 47,
   "metadata": {},
   "outputs": [],
   "source": [
    "#change the column names\n",
    "bank=bank.rename(columns={'V1': 'Age','V2':'job','V3':'Martial','V4':'Education','V5':'Defaultcredit','V6':'Balance',\n",
    "                          'V7':'Housing','V8':'Loan','V9':'Contact','V10':'Day',\n",
    "                         'V11':'Month','V12':'Duration','V13':'Campaign','V14':'Pdays','V15':'Previous','V16':'Poutcome',\n",
    "                          'Class':'Y'})"
   ]
  },
  {
   "cell_type": "code",
   "execution_count": 48,
   "metadata": {},
   "outputs": [
    {
     "data": {
      "text/plain": [
       "(45211, 17)"
      ]
     },
     "execution_count": 48,
     "metadata": {},
     "output_type": "execute_result"
    }
   ],
   "source": [
    "bank.shape"
   ]
  },
  {
   "cell_type": "code",
   "execution_count": 49,
   "metadata": {},
   "outputs": [
    {
     "data": {
      "text/html": [
       "<div>\n",
       "<style scoped>\n",
       "    .dataframe tbody tr th:only-of-type {\n",
       "        vertical-align: middle;\n",
       "    }\n",
       "\n",
       "    .dataframe tbody tr th {\n",
       "        vertical-align: top;\n",
       "    }\n",
       "\n",
       "    .dataframe thead th {\n",
       "        text-align: right;\n",
       "    }\n",
       "</style>\n",
       "<table border=\"1\" class=\"dataframe\">\n",
       "  <thead>\n",
       "    <tr style=\"text-align: right;\">\n",
       "      <th></th>\n",
       "      <th>Age</th>\n",
       "      <th>Balance</th>\n",
       "      <th>Day</th>\n",
       "      <th>Duration</th>\n",
       "      <th>Campaign</th>\n",
       "      <th>Pdays</th>\n",
       "      <th>Previous</th>\n",
       "      <th>Y</th>\n",
       "    </tr>\n",
       "  </thead>\n",
       "  <tbody>\n",
       "    <tr>\n",
       "      <td>count</td>\n",
       "      <td>45211.000000</td>\n",
       "      <td>45211.000000</td>\n",
       "      <td>45211.000000</td>\n",
       "      <td>45211.000000</td>\n",
       "      <td>45211.000000</td>\n",
       "      <td>45211.000000</td>\n",
       "      <td>45211.000000</td>\n",
       "      <td>45211.000000</td>\n",
       "    </tr>\n",
       "    <tr>\n",
       "      <td>mean</td>\n",
       "      <td>40.936210</td>\n",
       "      <td>1362.272058</td>\n",
       "      <td>15.806419</td>\n",
       "      <td>258.163080</td>\n",
       "      <td>2.763841</td>\n",
       "      <td>40.197828</td>\n",
       "      <td>0.580323</td>\n",
       "      <td>1.116985</td>\n",
       "    </tr>\n",
       "    <tr>\n",
       "      <td>std</td>\n",
       "      <td>10.618762</td>\n",
       "      <td>3044.765829</td>\n",
       "      <td>8.322476</td>\n",
       "      <td>257.527812</td>\n",
       "      <td>3.098021</td>\n",
       "      <td>100.128746</td>\n",
       "      <td>2.303441</td>\n",
       "      <td>0.321406</td>\n",
       "    </tr>\n",
       "    <tr>\n",
       "      <td>min</td>\n",
       "      <td>18.000000</td>\n",
       "      <td>-8019.000000</td>\n",
       "      <td>1.000000</td>\n",
       "      <td>0.000000</td>\n",
       "      <td>1.000000</td>\n",
       "      <td>-1.000000</td>\n",
       "      <td>0.000000</td>\n",
       "      <td>1.000000</td>\n",
       "    </tr>\n",
       "    <tr>\n",
       "      <td>25%</td>\n",
       "      <td>33.000000</td>\n",
       "      <td>72.000000</td>\n",
       "      <td>8.000000</td>\n",
       "      <td>103.000000</td>\n",
       "      <td>1.000000</td>\n",
       "      <td>-1.000000</td>\n",
       "      <td>0.000000</td>\n",
       "      <td>1.000000</td>\n",
       "    </tr>\n",
       "    <tr>\n",
       "      <td>50%</td>\n",
       "      <td>39.000000</td>\n",
       "      <td>448.000000</td>\n",
       "      <td>16.000000</td>\n",
       "      <td>180.000000</td>\n",
       "      <td>2.000000</td>\n",
       "      <td>-1.000000</td>\n",
       "      <td>0.000000</td>\n",
       "      <td>1.000000</td>\n",
       "    </tr>\n",
       "    <tr>\n",
       "      <td>75%</td>\n",
       "      <td>48.000000</td>\n",
       "      <td>1428.000000</td>\n",
       "      <td>21.000000</td>\n",
       "      <td>319.000000</td>\n",
       "      <td>3.000000</td>\n",
       "      <td>-1.000000</td>\n",
       "      <td>0.000000</td>\n",
       "      <td>1.000000</td>\n",
       "    </tr>\n",
       "    <tr>\n",
       "      <td>max</td>\n",
       "      <td>95.000000</td>\n",
       "      <td>102127.000000</td>\n",
       "      <td>31.000000</td>\n",
       "      <td>4918.000000</td>\n",
       "      <td>63.000000</td>\n",
       "      <td>871.000000</td>\n",
       "      <td>275.000000</td>\n",
       "      <td>2.000000</td>\n",
       "    </tr>\n",
       "  </tbody>\n",
       "</table>\n",
       "</div>"
      ],
      "text/plain": [
       "                Age        Balance           Day      Duration      Campaign  \\\n",
       "count  45211.000000   45211.000000  45211.000000  45211.000000  45211.000000   \n",
       "mean      40.936210    1362.272058     15.806419    258.163080      2.763841   \n",
       "std       10.618762    3044.765829      8.322476    257.527812      3.098021   \n",
       "min       18.000000   -8019.000000      1.000000      0.000000      1.000000   \n",
       "25%       33.000000      72.000000      8.000000    103.000000      1.000000   \n",
       "50%       39.000000     448.000000     16.000000    180.000000      2.000000   \n",
       "75%       48.000000    1428.000000     21.000000    319.000000      3.000000   \n",
       "max       95.000000  102127.000000     31.000000   4918.000000     63.000000   \n",
       "\n",
       "              Pdays      Previous             Y  \n",
       "count  45211.000000  45211.000000  45211.000000  \n",
       "mean      40.197828      0.580323      1.116985  \n",
       "std      100.128746      2.303441      0.321406  \n",
       "min       -1.000000      0.000000      1.000000  \n",
       "25%       -1.000000      0.000000      1.000000  \n",
       "50%       -1.000000      0.000000      1.000000  \n",
       "75%       -1.000000      0.000000      1.000000  \n",
       "max      871.000000    275.000000      2.000000  "
      ]
     },
     "execution_count": 49,
     "metadata": {},
     "output_type": "execute_result"
    }
   ],
   "source": [
    "bank.describe()"
   ]
  },
  {
   "cell_type": "code",
   "execution_count": 50,
   "metadata": {},
   "outputs": [
    {
     "data": {
      "text/html": [
       "<div>\n",
       "<style scoped>\n",
       "    .dataframe tbody tr th:only-of-type {\n",
       "        vertical-align: middle;\n",
       "    }\n",
       "\n",
       "    .dataframe tbody tr th {\n",
       "        vertical-align: top;\n",
       "    }\n",
       "\n",
       "    .dataframe thead th {\n",
       "        text-align: right;\n",
       "    }\n",
       "</style>\n",
       "<table border=\"1\" class=\"dataframe\">\n",
       "  <thead>\n",
       "    <tr style=\"text-align: right;\">\n",
       "      <th></th>\n",
       "      <th>Age</th>\n",
       "      <th>job</th>\n",
       "      <th>Martial</th>\n",
       "      <th>Education</th>\n",
       "      <th>Defaultcredit</th>\n",
       "      <th>Balance</th>\n",
       "      <th>Housing</th>\n",
       "      <th>Loan</th>\n",
       "      <th>Contact</th>\n",
       "      <th>Day</th>\n",
       "      <th>Month</th>\n",
       "      <th>Duration</th>\n",
       "      <th>Campaign</th>\n",
       "      <th>Pdays</th>\n",
       "      <th>Previous</th>\n",
       "      <th>Poutcome</th>\n",
       "      <th>Y</th>\n",
       "    </tr>\n",
       "  </thead>\n",
       "  <tbody>\n",
       "    <tr>\n",
       "      <td>0</td>\n",
       "      <td>58</td>\n",
       "      <td>management</td>\n",
       "      <td>married</td>\n",
       "      <td>tertiary</td>\n",
       "      <td>no</td>\n",
       "      <td>2143</td>\n",
       "      <td>yes</td>\n",
       "      <td>no</td>\n",
       "      <td>unknown</td>\n",
       "      <td>5</td>\n",
       "      <td>may</td>\n",
       "      <td>261</td>\n",
       "      <td>1</td>\n",
       "      <td>-1</td>\n",
       "      <td>0</td>\n",
       "      <td>unknown</td>\n",
       "      <td>1</td>\n",
       "    </tr>\n",
       "    <tr>\n",
       "      <td>1</td>\n",
       "      <td>44</td>\n",
       "      <td>technician</td>\n",
       "      <td>single</td>\n",
       "      <td>secondary</td>\n",
       "      <td>no</td>\n",
       "      <td>29</td>\n",
       "      <td>yes</td>\n",
       "      <td>no</td>\n",
       "      <td>unknown</td>\n",
       "      <td>5</td>\n",
       "      <td>may</td>\n",
       "      <td>151</td>\n",
       "      <td>1</td>\n",
       "      <td>-1</td>\n",
       "      <td>0</td>\n",
       "      <td>unknown</td>\n",
       "      <td>1</td>\n",
       "    </tr>\n",
       "    <tr>\n",
       "      <td>2</td>\n",
       "      <td>33</td>\n",
       "      <td>entrepreneur</td>\n",
       "      <td>married</td>\n",
       "      <td>secondary</td>\n",
       "      <td>no</td>\n",
       "      <td>2</td>\n",
       "      <td>yes</td>\n",
       "      <td>yes</td>\n",
       "      <td>unknown</td>\n",
       "      <td>5</td>\n",
       "      <td>may</td>\n",
       "      <td>76</td>\n",
       "      <td>1</td>\n",
       "      <td>-1</td>\n",
       "      <td>0</td>\n",
       "      <td>unknown</td>\n",
       "      <td>1</td>\n",
       "    </tr>\n",
       "    <tr>\n",
       "      <td>3</td>\n",
       "      <td>47</td>\n",
       "      <td>blue-collar</td>\n",
       "      <td>married</td>\n",
       "      <td>unknown</td>\n",
       "      <td>no</td>\n",
       "      <td>1506</td>\n",
       "      <td>yes</td>\n",
       "      <td>no</td>\n",
       "      <td>unknown</td>\n",
       "      <td>5</td>\n",
       "      <td>may</td>\n",
       "      <td>92</td>\n",
       "      <td>1</td>\n",
       "      <td>-1</td>\n",
       "      <td>0</td>\n",
       "      <td>unknown</td>\n",
       "      <td>1</td>\n",
       "    </tr>\n",
       "    <tr>\n",
       "      <td>4</td>\n",
       "      <td>33</td>\n",
       "      <td>unknown</td>\n",
       "      <td>single</td>\n",
       "      <td>unknown</td>\n",
       "      <td>no</td>\n",
       "      <td>1</td>\n",
       "      <td>no</td>\n",
       "      <td>no</td>\n",
       "      <td>unknown</td>\n",
       "      <td>5</td>\n",
       "      <td>may</td>\n",
       "      <td>198</td>\n",
       "      <td>1</td>\n",
       "      <td>-1</td>\n",
       "      <td>0</td>\n",
       "      <td>unknown</td>\n",
       "      <td>1</td>\n",
       "    </tr>\n",
       "  </tbody>\n",
       "</table>\n",
       "</div>"
      ],
      "text/plain": [
       "   Age           job  Martial  Education Defaultcredit  Balance Housing Loan  \\\n",
       "0   58    management  married   tertiary            no     2143     yes   no   \n",
       "1   44    technician   single  secondary            no       29     yes   no   \n",
       "2   33  entrepreneur  married  secondary            no        2     yes  yes   \n",
       "3   47   blue-collar  married    unknown            no     1506     yes   no   \n",
       "4   33       unknown   single    unknown            no        1      no   no   \n",
       "\n",
       "   Contact  Day Month  Duration  Campaign  Pdays  Previous Poutcome  Y  \n",
       "0  unknown    5   may       261         1     -1         0  unknown  1  \n",
       "1  unknown    5   may       151         1     -1         0  unknown  1  \n",
       "2  unknown    5   may        76         1     -1         0  unknown  1  \n",
       "3  unknown    5   may        92         1     -1         0  unknown  1  \n",
       "4  unknown    5   may       198         1     -1         0  unknown  1  "
      ]
     },
     "execution_count": 50,
     "metadata": {},
     "output_type": "execute_result"
    }
   ],
   "source": [
    "bank.head(5)"
   ]
  },
  {
   "cell_type": "code",
   "execution_count": 51,
   "metadata": {},
   "outputs": [
    {
     "data": {
      "text/plain": [
       "Age              0.0\n",
       "job              0.0\n",
       "Martial          0.0\n",
       "Education        0.0\n",
       "Defaultcredit    0.0\n",
       "Balance          0.0\n",
       "Housing          0.0\n",
       "Loan             0.0\n",
       "Contact          0.0\n",
       "Day              0.0\n",
       "Month            0.0\n",
       "Duration         0.0\n",
       "Campaign         0.0\n",
       "Pdays            0.0\n",
       "Previous         0.0\n",
       "Poutcome         0.0\n",
       "Y                0.0\n",
       "dtype: float64"
      ]
     },
     "execution_count": 51,
     "metadata": {},
     "output_type": "execute_result"
    }
   ],
   "source": [
    "#cheking for null values \n",
    "bank.isnull().sum()/len(bank)*100"
   ]
  },
  {
   "cell_type": "code",
   "execution_count": 52,
   "metadata": {},
   "outputs": [
    {
     "data": {
      "text/html": [
       "<div>\n",
       "<style scoped>\n",
       "    .dataframe tbody tr th:only-of-type {\n",
       "        vertical-align: middle;\n",
       "    }\n",
       "\n",
       "    .dataframe tbody tr th {\n",
       "        vertical-align: top;\n",
       "    }\n",
       "\n",
       "    .dataframe thead th {\n",
       "        text-align: right;\n",
       "    }\n",
       "</style>\n",
       "<table border=\"1\" class=\"dataframe\">\n",
       "  <thead>\n",
       "    <tr style=\"text-align: right;\">\n",
       "      <th></th>\n",
       "      <th>Age</th>\n",
       "      <th>Balance</th>\n",
       "      <th>Day</th>\n",
       "      <th>Duration</th>\n",
       "      <th>Campaign</th>\n",
       "      <th>Pdays</th>\n",
       "      <th>Previous</th>\n",
       "      <th>Y</th>\n",
       "    </tr>\n",
       "  </thead>\n",
       "  <tbody>\n",
       "    <tr>\n",
       "      <td>0</td>\n",
       "      <td>58</td>\n",
       "      <td>2143</td>\n",
       "      <td>5</td>\n",
       "      <td>261</td>\n",
       "      <td>1</td>\n",
       "      <td>-1</td>\n",
       "      <td>0</td>\n",
       "      <td>1</td>\n",
       "    </tr>\n",
       "    <tr>\n",
       "      <td>1</td>\n",
       "      <td>44</td>\n",
       "      <td>29</td>\n",
       "      <td>5</td>\n",
       "      <td>151</td>\n",
       "      <td>1</td>\n",
       "      <td>-1</td>\n",
       "      <td>0</td>\n",
       "      <td>1</td>\n",
       "    </tr>\n",
       "  </tbody>\n",
       "</table>\n",
       "</div>"
      ],
      "text/plain": [
       "   Age  Balance  Day  Duration  Campaign  Pdays  Previous  Y\n",
       "0   58     2143    5       261         1     -1         0  1\n",
       "1   44       29    5       151         1     -1         0  1"
      ]
     },
     "execution_count": 52,
     "metadata": {},
     "output_type": "execute_result"
    }
   ],
   "source": [
    "#numerical data\n",
    "bank_num=bank.select_dtypes(include=np.number)\n",
    "bank_num.head(2)"
   ]
  },
  {
   "cell_type": "code",
   "execution_count": 53,
   "metadata": {},
   "outputs": [
    {
     "data": {
      "text/html": [
       "<style  type=\"text/css\" >\n",
       "    #T_376b969e_1826_11eb_874f_acd1b8d14582row0_col0 {\n",
       "            background-color:  #023858;\n",
       "            color:  #f1f1f1;\n",
       "        }    #T_376b969e_1826_11eb_874f_acd1b8d14582row0_col1 {\n",
       "            background-color:  #eee9f3;\n",
       "            color:  #000000;\n",
       "        }    #T_376b969e_1826_11eb_874f_acd1b8d14582row0_col2 {\n",
       "            background-color:  #f4edf6;\n",
       "            color:  #000000;\n",
       "        }    #T_376b969e_1826_11eb_874f_acd1b8d14582row0_col3 {\n",
       "            background-color:  #f4eef6;\n",
       "            color:  #000000;\n",
       "        }    #T_376b969e_1826_11eb_874f_acd1b8d14582row0_col4 {\n",
       "            background-color:  #f2ecf5;\n",
       "            color:  #000000;\n",
       "        }    #T_376b969e_1826_11eb_874f_acd1b8d14582row0_col5 {\n",
       "            background-color:  #f5eff6;\n",
       "            color:  #000000;\n",
       "        }    #T_376b969e_1826_11eb_874f_acd1b8d14582row0_col6 {\n",
       "            background-color:  #f8f1f8;\n",
       "            color:  #000000;\n",
       "        }    #T_376b969e_1826_11eb_874f_acd1b8d14582row0_col7 {\n",
       "            background-color:  #f1ebf5;\n",
       "            color:  #000000;\n",
       "        }    #T_376b969e_1826_11eb_874f_acd1b8d14582row1_col0 {\n",
       "            background-color:  #ede8f3;\n",
       "            color:  #000000;\n",
       "        }    #T_376b969e_1826_11eb_874f_acd1b8d14582row1_col1 {\n",
       "            background-color:  #023858;\n",
       "            color:  #f1f1f1;\n",
       "        }    #T_376b969e_1826_11eb_874f_acd1b8d14582row1_col2 {\n",
       "            background-color:  #f2ecf5;\n",
       "            color:  #000000;\n",
       "        }    #T_376b969e_1826_11eb_874f_acd1b8d14582row1_col3 {\n",
       "            background-color:  #f0eaf4;\n",
       "            color:  #000000;\n",
       "        }    #T_376b969e_1826_11eb_874f_acd1b8d14582row1_col4 {\n",
       "            background-color:  #f5eef6;\n",
       "            color:  #000000;\n",
       "        }    #T_376b969e_1826_11eb_874f_acd1b8d14582row1_col5 {\n",
       "            background-color:  #f2ecf5;\n",
       "            color:  #000000;\n",
       "        }    #T_376b969e_1826_11eb_874f_acd1b8d14582row1_col6 {\n",
       "            background-color:  #f5eff6;\n",
       "            color:  #000000;\n",
       "        }    #T_376b969e_1826_11eb_874f_acd1b8d14582row1_col7 {\n",
       "            background-color:  #ede8f3;\n",
       "            color:  #000000;\n",
       "        }    #T_376b969e_1826_11eb_874f_acd1b8d14582row2_col0 {\n",
       "            background-color:  #fdf5fa;\n",
       "            color:  #000000;\n",
       "        }    #T_376b969e_1826_11eb_874f_acd1b8d14582row2_col1 {\n",
       "            background-color:  #fdf5fa;\n",
       "            color:  #000000;\n",
       "        }    #T_376b969e_1826_11eb_874f_acd1b8d14582row2_col2 {\n",
       "            background-color:  #023858;\n",
       "            color:  #f1f1f1;\n",
       "        }    #T_376b969e_1826_11eb_874f_acd1b8d14582row2_col3 {\n",
       "            background-color:  #f8f1f8;\n",
       "            color:  #000000;\n",
       "        }    #T_376b969e_1826_11eb_874f_acd1b8d14582row2_col4 {\n",
       "            background-color:  #d4d4e8;\n",
       "            color:  #000000;\n",
       "        }    #T_376b969e_1826_11eb_874f_acd1b8d14582row2_col5 {\n",
       "            background-color:  #fff7fb;\n",
       "            color:  #000000;\n",
       "        }    #T_376b969e_1826_11eb_874f_acd1b8d14582row2_col6 {\n",
       "            background-color:  #fff7fb;\n",
       "            color:  #000000;\n",
       "        }    #T_376b969e_1826_11eb_874f_acd1b8d14582row2_col7 {\n",
       "            background-color:  #f9f2f8;\n",
       "            color:  #000000;\n",
       "        }    #T_376b969e_1826_11eb_874f_acd1b8d14582row3_col0 {\n",
       "            background-color:  #fdf5fa;\n",
       "            color:  #000000;\n",
       "        }    #T_376b969e_1826_11eb_874f_acd1b8d14582row3_col1 {\n",
       "            background-color:  #faf2f8;\n",
       "            color:  #000000;\n",
       "        }    #T_376b969e_1826_11eb_874f_acd1b8d14582row3_col2 {\n",
       "            background-color:  #f7f0f7;\n",
       "            color:  #000000;\n",
       "        }    #T_376b969e_1826_11eb_874f_acd1b8d14582row3_col3 {\n",
       "            background-color:  #023858;\n",
       "            color:  #f1f1f1;\n",
       "        }    #T_376b969e_1826_11eb_874f_acd1b8d14582row3_col4 {\n",
       "            background-color:  #fff7fb;\n",
       "            color:  #000000;\n",
       "        }    #T_376b969e_1826_11eb_874f_acd1b8d14582row3_col5 {\n",
       "            background-color:  #f2ecf5;\n",
       "            color:  #000000;\n",
       "        }    #T_376b969e_1826_11eb_874f_acd1b8d14582row3_col6 {\n",
       "            background-color:  #f8f1f8;\n",
       "            color:  #000000;\n",
       "        }    #T_376b969e_1826_11eb_874f_acd1b8d14582row3_col7 {\n",
       "            background-color:  #8eb3d5;\n",
       "            color:  #000000;\n",
       "        }    #T_376b969e_1826_11eb_874f_acd1b8d14582row4_col0 {\n",
       "            background-color:  #fbf3f9;\n",
       "            color:  #000000;\n",
       "        }    #T_376b969e_1826_11eb_874f_acd1b8d14582row4_col1 {\n",
       "            background-color:  #fff7fb;\n",
       "            color:  #000000;\n",
       "        }    #T_376b969e_1826_11eb_874f_acd1b8d14582row4_col2 {\n",
       "            background-color:  #d4d4e8;\n",
       "            color:  #000000;\n",
       "        }    #T_376b969e_1826_11eb_874f_acd1b8d14582row4_col3 {\n",
       "            background-color:  #fff7fb;\n",
       "            color:  #000000;\n",
       "        }    #T_376b969e_1826_11eb_874f_acd1b8d14582row4_col4 {\n",
       "            background-color:  #023858;\n",
       "            color:  #f1f1f1;\n",
       "        }    #T_376b969e_1826_11eb_874f_acd1b8d14582row4_col5 {\n",
       "            background-color:  #fef6fb;\n",
       "            color:  #000000;\n",
       "        }    #T_376b969e_1826_11eb_874f_acd1b8d14582row4_col6 {\n",
       "            background-color:  #fdf5fa;\n",
       "            color:  #000000;\n",
       "        }    #T_376b969e_1826_11eb_874f_acd1b8d14582row4_col7 {\n",
       "            background-color:  #fff7fb;\n",
       "            color:  #000000;\n",
       "        }    #T_376b969e_1826_11eb_874f_acd1b8d14582row5_col0 {\n",
       "            background-color:  #fff7fb;\n",
       "            color:  #000000;\n",
       "        }    #T_376b969e_1826_11eb_874f_acd1b8d14582row5_col1 {\n",
       "            background-color:  #fdf5fa;\n",
       "            color:  #000000;\n",
       "        }    #T_376b969e_1826_11eb_874f_acd1b8d14582row5_col2 {\n",
       "            background-color:  #fff7fb;\n",
       "            color:  #000000;\n",
       "        }    #T_376b969e_1826_11eb_874f_acd1b8d14582row5_col3 {\n",
       "            background-color:  #f4edf6;\n",
       "            color:  #000000;\n",
       "        }    #T_376b969e_1826_11eb_874f_acd1b8d14582row5_col4 {\n",
       "            background-color:  #fff7fb;\n",
       "            color:  #000000;\n",
       "        }    #T_376b969e_1826_11eb_874f_acd1b8d14582row5_col5 {\n",
       "            background-color:  #023858;\n",
       "            color:  #f1f1f1;\n",
       "        }    #T_376b969e_1826_11eb_874f_acd1b8d14582row5_col6 {\n",
       "            background-color:  #7bacd1;\n",
       "            color:  #000000;\n",
       "        }    #T_376b969e_1826_11eb_874f_acd1b8d14582row5_col7 {\n",
       "            background-color:  #e3e0ee;\n",
       "            color:  #000000;\n",
       "        }    #T_376b969e_1826_11eb_874f_acd1b8d14582row6_col0 {\n",
       "            background-color:  #fbf4f9;\n",
       "            color:  #000000;\n",
       "        }    #T_376b969e_1826_11eb_874f_acd1b8d14582row6_col1 {\n",
       "            background-color:  #fbf3f9;\n",
       "            color:  #000000;\n",
       "        }    #T_376b969e_1826_11eb_874f_acd1b8d14582row6_col2 {\n",
       "            background-color:  #faf2f8;\n",
       "            color:  #000000;\n",
       "        }    #T_376b969e_1826_11eb_874f_acd1b8d14582row6_col3 {\n",
       "            background-color:  #f3edf5;\n",
       "            color:  #000000;\n",
       "        }    #T_376b969e_1826_11eb_874f_acd1b8d14582row6_col4 {\n",
       "            background-color:  #f7f0f7;\n",
       "            color:  #000000;\n",
       "        }    #T_376b969e_1826_11eb_874f_acd1b8d14582row6_col5 {\n",
       "            background-color:  #73a9cf;\n",
       "            color:  #000000;\n",
       "        }    #T_376b969e_1826_11eb_874f_acd1b8d14582row6_col6 {\n",
       "            background-color:  #023858;\n",
       "            color:  #f1f1f1;\n",
       "        }    #T_376b969e_1826_11eb_874f_acd1b8d14582row6_col7 {\n",
       "            background-color:  #e6e2ef;\n",
       "            color:  #000000;\n",
       "        }    #T_376b969e_1826_11eb_874f_acd1b8d14582row7_col0 {\n",
       "            background-color:  #f8f1f8;\n",
       "            color:  #000000;\n",
       "        }    #T_376b969e_1826_11eb_874f_acd1b8d14582row7_col1 {\n",
       "            background-color:  #f5eef6;\n",
       "            color:  #000000;\n",
       "        }    #T_376b969e_1826_11eb_874f_acd1b8d14582row7_col2 {\n",
       "            background-color:  #f6eff7;\n",
       "            color:  #000000;\n",
       "        }    #T_376b969e_1826_11eb_874f_acd1b8d14582row7_col3 {\n",
       "            background-color:  #8bb2d4;\n",
       "            color:  #000000;\n",
       "        }    #T_376b969e_1826_11eb_874f_acd1b8d14582row7_col4 {\n",
       "            background-color:  #fdf5fa;\n",
       "            color:  #000000;\n",
       "        }    #T_376b969e_1826_11eb_874f_acd1b8d14582row7_col5 {\n",
       "            background-color:  #e0dded;\n",
       "            color:  #000000;\n",
       "        }    #T_376b969e_1826_11eb_874f_acd1b8d14582row7_col6 {\n",
       "            background-color:  #e9e5f1;\n",
       "            color:  #000000;\n",
       "        }    #T_376b969e_1826_11eb_874f_acd1b8d14582row7_col7 {\n",
       "            background-color:  #023858;\n",
       "            color:  #f1f1f1;\n",
       "        }</style><table id=\"T_376b969e_1826_11eb_874f_acd1b8d14582\" ><thead>    <tr>        <th class=\"blank level0\" ></th>        <th class=\"col_heading level0 col0\" >Age</th>        <th class=\"col_heading level0 col1\" >Balance</th>        <th class=\"col_heading level0 col2\" >Day</th>        <th class=\"col_heading level0 col3\" >Duration</th>        <th class=\"col_heading level0 col4\" >Campaign</th>        <th class=\"col_heading level0 col5\" >Pdays</th>        <th class=\"col_heading level0 col6\" >Previous</th>        <th class=\"col_heading level0 col7\" >Y</th>    </tr></thead><tbody>\n",
       "                <tr>\n",
       "                        <th id=\"T_376b969e_1826_11eb_874f_acd1b8d14582level0_row0\" class=\"row_heading level0 row0\" >Age</th>\n",
       "                        <td id=\"T_376b969e_1826_11eb_874f_acd1b8d14582row0_col0\" class=\"data row0 col0\" >1</td>\n",
       "                        <td id=\"T_376b969e_1826_11eb_874f_acd1b8d14582row0_col1\" class=\"data row0 col1\" >0.0977827</td>\n",
       "                        <td id=\"T_376b969e_1826_11eb_874f_acd1b8d14582row0_col2\" class=\"data row0 col2\" >-0.00912005</td>\n",
       "                        <td id=\"T_376b969e_1826_11eb_874f_acd1b8d14582row0_col3\" class=\"data row0 col3\" >-0.00464843</td>\n",
       "                        <td id=\"T_376b969e_1826_11eb_874f_acd1b8d14582row0_col4\" class=\"data row0 col4\" >0.00476031</td>\n",
       "                        <td id=\"T_376b969e_1826_11eb_874f_acd1b8d14582row0_col5\" class=\"data row0 col5\" >-0.023758</td>\n",
       "                        <td id=\"T_376b969e_1826_11eb_874f_acd1b8d14582row0_col6\" class=\"data row0 col6\" >0.00128832</td>\n",
       "                        <td id=\"T_376b969e_1826_11eb_874f_acd1b8d14582row0_col7\" class=\"data row0 col7\" >0.025155</td>\n",
       "            </tr>\n",
       "            <tr>\n",
       "                        <th id=\"T_376b969e_1826_11eb_874f_acd1b8d14582level0_row1\" class=\"row_heading level0 row1\" >Balance</th>\n",
       "                        <td id=\"T_376b969e_1826_11eb_874f_acd1b8d14582row1_col0\" class=\"data row1 col0\" >0.0977827</td>\n",
       "                        <td id=\"T_376b969e_1826_11eb_874f_acd1b8d14582row1_col1\" class=\"data row1 col1\" >1</td>\n",
       "                        <td id=\"T_376b969e_1826_11eb_874f_acd1b8d14582row1_col2\" class=\"data row1 col2\" >0.00450259</td>\n",
       "                        <td id=\"T_376b969e_1826_11eb_874f_acd1b8d14582row1_col3\" class=\"data row1 col3\" >0.0215604</td>\n",
       "                        <td id=\"T_376b969e_1826_11eb_874f_acd1b8d14582row1_col4\" class=\"data row1 col4\" >-0.0145783</td>\n",
       "                        <td id=\"T_376b969e_1826_11eb_874f_acd1b8d14582row1_col5\" class=\"data row1 col5\" >0.00343532</td>\n",
       "                        <td id=\"T_376b969e_1826_11eb_874f_acd1b8d14582row1_col6\" class=\"data row1 col6\" >0.0166736</td>\n",
       "                        <td id=\"T_376b969e_1826_11eb_874f_acd1b8d14582row1_col7\" class=\"data row1 col7\" >0.0528384</td>\n",
       "            </tr>\n",
       "            <tr>\n",
       "                        <th id=\"T_376b969e_1826_11eb_874f_acd1b8d14582level0_row2\" class=\"row_heading level0 row2\" >Day</th>\n",
       "                        <td id=\"T_376b969e_1826_11eb_874f_acd1b8d14582row2_col0\" class=\"data row2 col0\" >-0.00912005</td>\n",
       "                        <td id=\"T_376b969e_1826_11eb_874f_acd1b8d14582row2_col1\" class=\"data row2 col1\" >0.00450259</td>\n",
       "                        <td id=\"T_376b969e_1826_11eb_874f_acd1b8d14582row2_col2\" class=\"data row2 col2\" >1</td>\n",
       "                        <td id=\"T_376b969e_1826_11eb_874f_acd1b8d14582row2_col3\" class=\"data row2 col3\" >-0.0302063</td>\n",
       "                        <td id=\"T_376b969e_1826_11eb_874f_acd1b8d14582row2_col4\" class=\"data row2 col4\" >0.16249</td>\n",
       "                        <td id=\"T_376b969e_1826_11eb_874f_acd1b8d14582row2_col5\" class=\"data row2 col5\" >-0.0930441</td>\n",
       "                        <td id=\"T_376b969e_1826_11eb_874f_acd1b8d14582row2_col6\" class=\"data row2 col6\" >-0.0517105</td>\n",
       "                        <td id=\"T_376b969e_1826_11eb_874f_acd1b8d14582row2_col7\" class=\"data row2 col7\" >-0.0283478</td>\n",
       "            </tr>\n",
       "            <tr>\n",
       "                        <th id=\"T_376b969e_1826_11eb_874f_acd1b8d14582level0_row3\" class=\"row_heading level0 row3\" >Duration</th>\n",
       "                        <td id=\"T_376b969e_1826_11eb_874f_acd1b8d14582row3_col0\" class=\"data row3 col0\" >-0.00464843</td>\n",
       "                        <td id=\"T_376b969e_1826_11eb_874f_acd1b8d14582row3_col1\" class=\"data row3 col1\" >0.0215604</td>\n",
       "                        <td id=\"T_376b969e_1826_11eb_874f_acd1b8d14582row3_col2\" class=\"data row3 col2\" >-0.0302063</td>\n",
       "                        <td id=\"T_376b969e_1826_11eb_874f_acd1b8d14582row3_col3\" class=\"data row3 col3\" >1</td>\n",
       "                        <td id=\"T_376b969e_1826_11eb_874f_acd1b8d14582row3_col4\" class=\"data row3 col4\" >-0.0845695</td>\n",
       "                        <td id=\"T_376b969e_1826_11eb_874f_acd1b8d14582row3_col5\" class=\"data row3 col5\" >-0.00156477</td>\n",
       "                        <td id=\"T_376b969e_1826_11eb_874f_acd1b8d14582row3_col6\" class=\"data row3 col6\" >0.00120306</td>\n",
       "                        <td id=\"T_376b969e_1826_11eb_874f_acd1b8d14582row3_col7\" class=\"data row3 col7\" >0.394521</td>\n",
       "            </tr>\n",
       "            <tr>\n",
       "                        <th id=\"T_376b969e_1826_11eb_874f_acd1b8d14582level0_row4\" class=\"row_heading level0 row4\" >Campaign</th>\n",
       "                        <td id=\"T_376b969e_1826_11eb_874f_acd1b8d14582row4_col0\" class=\"data row4 col0\" >0.00476031</td>\n",
       "                        <td id=\"T_376b969e_1826_11eb_874f_acd1b8d14582row4_col1\" class=\"data row4 col1\" >-0.0145783</td>\n",
       "                        <td id=\"T_376b969e_1826_11eb_874f_acd1b8d14582row4_col2\" class=\"data row4 col2\" >0.16249</td>\n",
       "                        <td id=\"T_376b969e_1826_11eb_874f_acd1b8d14582row4_col3\" class=\"data row4 col3\" >-0.0845695</td>\n",
       "                        <td id=\"T_376b969e_1826_11eb_874f_acd1b8d14582row4_col4\" class=\"data row4 col4\" >1</td>\n",
       "                        <td id=\"T_376b969e_1826_11eb_874f_acd1b8d14582row4_col5\" class=\"data row4 col5\" >-0.0886277</td>\n",
       "                        <td id=\"T_376b969e_1826_11eb_874f_acd1b8d14582row4_col6\" class=\"data row4 col6\" >-0.0328553</td>\n",
       "                        <td id=\"T_376b969e_1826_11eb_874f_acd1b8d14582row4_col7\" class=\"data row4 col7\" >-0.073172</td>\n",
       "            </tr>\n",
       "            <tr>\n",
       "                        <th id=\"T_376b969e_1826_11eb_874f_acd1b8d14582level0_row5\" class=\"row_heading level0 row5\" >Pdays</th>\n",
       "                        <td id=\"T_376b969e_1826_11eb_874f_acd1b8d14582row5_col0\" class=\"data row5 col0\" >-0.023758</td>\n",
       "                        <td id=\"T_376b969e_1826_11eb_874f_acd1b8d14582row5_col1\" class=\"data row5 col1\" >0.00343532</td>\n",
       "                        <td id=\"T_376b969e_1826_11eb_874f_acd1b8d14582row5_col2\" class=\"data row5 col2\" >-0.0930441</td>\n",
       "                        <td id=\"T_376b969e_1826_11eb_874f_acd1b8d14582row5_col3\" class=\"data row5 col3\" >-0.00156477</td>\n",
       "                        <td id=\"T_376b969e_1826_11eb_874f_acd1b8d14582row5_col4\" class=\"data row5 col4\" >-0.0886277</td>\n",
       "                        <td id=\"T_376b969e_1826_11eb_874f_acd1b8d14582row5_col5\" class=\"data row5 col5\" >1</td>\n",
       "                        <td id=\"T_376b969e_1826_11eb_874f_acd1b8d14582row5_col6\" class=\"data row5 col6\" >0.45482</td>\n",
       "                        <td id=\"T_376b969e_1826_11eb_874f_acd1b8d14582row5_col7\" class=\"data row5 col7\" >0.103621</td>\n",
       "            </tr>\n",
       "            <tr>\n",
       "                        <th id=\"T_376b969e_1826_11eb_874f_acd1b8d14582level0_row6\" class=\"row_heading level0 row6\" >Previous</th>\n",
       "                        <td id=\"T_376b969e_1826_11eb_874f_acd1b8d14582row6_col0\" class=\"data row6 col0\" >0.00128832</td>\n",
       "                        <td id=\"T_376b969e_1826_11eb_874f_acd1b8d14582row6_col1\" class=\"data row6 col1\" >0.0166736</td>\n",
       "                        <td id=\"T_376b969e_1826_11eb_874f_acd1b8d14582row6_col2\" class=\"data row6 col2\" >-0.0517105</td>\n",
       "                        <td id=\"T_376b969e_1826_11eb_874f_acd1b8d14582row6_col3\" class=\"data row6 col3\" >0.00120306</td>\n",
       "                        <td id=\"T_376b969e_1826_11eb_874f_acd1b8d14582row6_col4\" class=\"data row6 col4\" >-0.0328553</td>\n",
       "                        <td id=\"T_376b969e_1826_11eb_874f_acd1b8d14582row6_col5\" class=\"data row6 col5\" >0.45482</td>\n",
       "                        <td id=\"T_376b969e_1826_11eb_874f_acd1b8d14582row6_col6\" class=\"data row6 col6\" >1</td>\n",
       "                        <td id=\"T_376b969e_1826_11eb_874f_acd1b8d14582row6_col7\" class=\"data row6 col7\" >0.0932358</td>\n",
       "            </tr>\n",
       "            <tr>\n",
       "                        <th id=\"T_376b969e_1826_11eb_874f_acd1b8d14582level0_row7\" class=\"row_heading level0 row7\" >Y</th>\n",
       "                        <td id=\"T_376b969e_1826_11eb_874f_acd1b8d14582row7_col0\" class=\"data row7 col0\" >0.025155</td>\n",
       "                        <td id=\"T_376b969e_1826_11eb_874f_acd1b8d14582row7_col1\" class=\"data row7 col1\" >0.0528384</td>\n",
       "                        <td id=\"T_376b969e_1826_11eb_874f_acd1b8d14582row7_col2\" class=\"data row7 col2\" >-0.0283478</td>\n",
       "                        <td id=\"T_376b969e_1826_11eb_874f_acd1b8d14582row7_col3\" class=\"data row7 col3\" >0.394521</td>\n",
       "                        <td id=\"T_376b969e_1826_11eb_874f_acd1b8d14582row7_col4\" class=\"data row7 col4\" >-0.073172</td>\n",
       "                        <td id=\"T_376b969e_1826_11eb_874f_acd1b8d14582row7_col5\" class=\"data row7 col5\" >0.103621</td>\n",
       "                        <td id=\"T_376b969e_1826_11eb_874f_acd1b8d14582row7_col6\" class=\"data row7 col6\" >0.0932358</td>\n",
       "                        <td id=\"T_376b969e_1826_11eb_874f_acd1b8d14582row7_col7\" class=\"data row7 col7\" >1</td>\n",
       "            </tr>\n",
       "    </tbody></table>"
      ],
      "text/plain": [
       "<pandas.io.formats.style.Styler at 0xdf88fae488>"
      ]
     },
     "execution_count": 53,
     "metadata": {},
     "output_type": "execute_result"
    }
   ],
   "source": [
    "#for numerical data\n",
    "\n",
    "corr=bank_num.corr()\n",
    "corr.style.background_gradient(cmap='PuBu')"
   ]
  },
  {
   "cell_type": "code",
   "execution_count": 54,
   "metadata": {},
   "outputs": [
    {
     "data": {
      "image/png": "[encoded data removed]",
      "text/plain": [
       "<Figure size 1080x720 with 8 Axes>"
      ]
     },
     "metadata": {
      "needs_background": "light"
     },
     "output_type": "display_data"
    }
   ],
   "source": [
    "#density plots for all numerical values\n",
    "bank_num.plot(kind='kde',subplots=True,sharex=False,layout=(4,2),figsize=(15,10))\n",
    "plt.show()"
   ]
  },
  {
   "cell_type": "code",
   "execution_count": 55,
   "metadata": {},
   "outputs": [
    {
     "data": {
      "text/html": [
       "<div>\n",
       "<style scoped>\n",
       "    .dataframe tbody tr th:only-of-type {\n",
       "        vertical-align: middle;\n",
       "    }\n",
       "\n",
       "    .dataframe tbody tr th {\n",
       "        vertical-align: top;\n",
       "    }\n",
       "\n",
       "    .dataframe thead th {\n",
       "        text-align: right;\n",
       "    }\n",
       "</style>\n",
       "<table border=\"1\" class=\"dataframe\">\n",
       "  <thead>\n",
       "    <tr style=\"text-align: right;\">\n",
       "      <th></th>\n",
       "      <th>job</th>\n",
       "      <th>Martial</th>\n",
       "      <th>Education</th>\n",
       "      <th>Defaultcredit</th>\n",
       "      <th>Housing</th>\n",
       "      <th>Loan</th>\n",
       "      <th>Contact</th>\n",
       "      <th>Month</th>\n",
       "      <th>Poutcome</th>\n",
       "    </tr>\n",
       "  </thead>\n",
       "  <tbody>\n",
       "    <tr>\n",
       "      <td>0</td>\n",
       "      <td>management</td>\n",
       "      <td>married</td>\n",
       "      <td>tertiary</td>\n",
       "      <td>no</td>\n",
       "      <td>yes</td>\n",
       "      <td>no</td>\n",
       "      <td>unknown</td>\n",
       "      <td>may</td>\n",
       "      <td>unknown</td>\n",
       "    </tr>\n",
       "    <tr>\n",
       "      <td>1</td>\n",
       "      <td>technician</td>\n",
       "      <td>single</td>\n",
       "      <td>secondary</td>\n",
       "      <td>no</td>\n",
       "      <td>yes</td>\n",
       "      <td>no</td>\n",
       "      <td>unknown</td>\n",
       "      <td>may</td>\n",
       "      <td>unknown</td>\n",
       "    </tr>\n",
       "  </tbody>\n",
       "</table>\n",
       "</div>"
      ],
      "text/plain": [
       "          job  Martial  Education Defaultcredit Housing Loan  Contact Month  \\\n",
       "0  management  married   tertiary            no     yes   no  unknown   may   \n",
       "1  technician   single  secondary            no     yes   no  unknown   may   \n",
       "\n",
       "  Poutcome  \n",
       "0  unknown  \n",
       "1  unknown  "
      ]
     },
     "execution_count": 55,
     "metadata": {},
     "output_type": "execute_result"
    }
   ],
   "source": [
    "#categorical data\n",
    "bank_cat=bank.select_dtypes(exclude=np.number)\n",
    "bank_cat.head(2)"
   ]
  },
  {
   "cell_type": "code",
   "execution_count": null,
   "metadata": {},
   "outputs": [],
   "source": []
  },
  {
   "cell_type": "code",
   "execution_count": 56,
   "metadata": {},
   "outputs": [
    {
     "data": {
      "image/png": "[encoded data removed]",
      "text/plain": [
       "<Figure size 432x288 with 1 Axes>"
      ]
     },
     "metadata": {
      "needs_background": "light"
     },
     "output_type": "display_data"
    },
    {
     "data": {
      "image/png": "[encoded data removed]",
      "text/plain": [
       "<Figure size 432x288 with 1 Axes>"
      ]
     },
     "metadata": {
      "needs_background": "light"
     },
     "output_type": "display_data"
    },
    {
     "data": {
      "image/png": "[encoded data removed]",
      "text/plain": [
       "<Figure size 432x288 with 1 Axes>"
      ]
     },
     "metadata": {
      "needs_background": "light"
     },
     "output_type": "display_data"
    },
    {
     "data": {
      "image/png": "[encoded data removed]",
      "text/plain": [
       "<Figure size 432x288 with 1 Axes>"
      ]
     },
     "metadata": {
      "needs_background": "light"
     },
     "output_type": "display_data"
    },
    {
     "data": {
      "image/png": "[encoded data removed]",
      "text/plain": [
       "<Figure size 432x288 with 1 Axes>"
      ]
     },
     "metadata": {
      "needs_background": "light"
     },
     "output_type": "display_data"
    },
    {
     "data": {
      "image/png": "[encoded data removed]",
      "text/plain": [
       "<Figure size 432x288 with 1 Axes>"
      ]
     },
     "metadata": {
      "needs_background": "light"
     },
     "output_type": "display_data"
    },
    {
     "data": {
      "image/png": "[encoded data removed]",
      "text/plain": [
       "<Figure size 432x288 with 1 Axes>"
      ]
     },
     "metadata": {
      "needs_background": "light"
     },
     "output_type": "display_data"
    },
    {
     "data": {
      "image/png": "[encoded data removed]",
      "text/plain": [
       "<Figure size 432x288 with 1 Axes>"
      ]
     },
     "metadata": {
      "needs_background": "light"
     },
     "output_type": "display_data"
    },
    {
     "data": {
      "image/png": "[encoded data removed]",
      "text/plain": [
       "<Figure size 432x288 with 1 Axes>"
      ]
     },
     "metadata": {
      "needs_background": "light"
     },
     "output_type": "display_data"
    }
   ],
   "source": [
    "#for categorical data\n",
    "\n",
    "for i in (bank_cat):\n",
    "    sb.countplot(bank_cat[i])\n",
    "    plt.xticks(rotation=90)\n",
    "    plt.show()"
   ]
  },
  {
   "cell_type": "code",
   "execution_count": 57,
   "metadata": {},
   "outputs": [
    {
     "data": {
      "text/html": [
       "<div>\n",
       "<style scoped>\n",
       "    .dataframe tbody tr th:only-of-type {\n",
       "        vertical-align: middle;\n",
       "    }\n",
       "\n",
       "    .dataframe tbody tr th {\n",
       "        vertical-align: top;\n",
       "    }\n",
       "\n",
       "    .dataframe thead th {\n",
       "        text-align: right;\n",
       "    }\n",
       "</style>\n",
       "<table border=\"1\" class=\"dataframe\">\n",
       "  <thead>\n",
       "    <tr style=\"text-align: right;\">\n",
       "      <th></th>\n",
       "      <th>job</th>\n",
       "      <th>Martial</th>\n",
       "      <th>Education</th>\n",
       "      <th>Defaultcredit</th>\n",
       "      <th>Housing</th>\n",
       "      <th>Loan</th>\n",
       "      <th>Contact</th>\n",
       "      <th>Month</th>\n",
       "      <th>Poutcome</th>\n",
       "    </tr>\n",
       "  </thead>\n",
       "  <tbody>\n",
       "    <tr>\n",
       "      <td>0</td>\n",
       "      <td>management</td>\n",
       "      <td>married</td>\n",
       "      <td>tertiary</td>\n",
       "      <td>no</td>\n",
       "      <td>yes</td>\n",
       "      <td>no</td>\n",
       "      <td>unknown</td>\n",
       "      <td>may</td>\n",
       "      <td>unknown</td>\n",
       "    </tr>\n",
       "    <tr>\n",
       "      <td>1</td>\n",
       "      <td>technician</td>\n",
       "      <td>single</td>\n",
       "      <td>secondary</td>\n",
       "      <td>no</td>\n",
       "      <td>yes</td>\n",
       "      <td>no</td>\n",
       "      <td>unknown</td>\n",
       "      <td>may</td>\n",
       "      <td>unknown</td>\n",
       "    </tr>\n",
       "  </tbody>\n",
       "</table>\n",
       "</div>"
      ],
      "text/plain": [
       "          job  Martial  Education Defaultcredit Housing Loan  Contact Month  \\\n",
       "0  management  married   tertiary            no     yes   no  unknown   may   \n",
       "1  technician   single  secondary            no     yes   no  unknown   may   \n",
       "\n",
       "  Poutcome  \n",
       "0  unknown  \n",
       "1  unknown  "
      ]
     },
     "execution_count": 57,
     "metadata": {},
     "output_type": "execute_result"
    }
   ],
   "source": [
    "bank_cat.head(2)"
   ]
  },
  {
   "cell_type": "code",
   "execution_count": 58,
   "metadata": {},
   "outputs": [],
   "source": [
    "bank['Y']=bank['Y'].map({1:0,2:1})"
   ]
  },
  {
   "cell_type": "code",
   "execution_count": 59,
   "metadata": {},
   "outputs": [],
   "source": [
    "#Replacing the categorical data with the binary values\n",
    "\n",
    "bank['Loan']=bank['Loan'].map({'no':0,'yes':1}).astype('int')"
   ]
  },
  {
   "cell_type": "code",
   "execution_count": 60,
   "metadata": {},
   "outputs": [],
   "source": [
    "bank['Housing']=bank['Housing'].map({'no':0,'yes':1}).astype('int')"
   ]
  },
  {
   "cell_type": "code",
   "execution_count": 61,
   "metadata": {},
   "outputs": [],
   "source": [
    "bank['Defaultcredit']=bank['Defaultcredit'].map({'no':0,'yes':1}).astype('int')"
   ]
  },
  {
   "cell_type": "code",
   "execution_count": 62,
   "metadata": {},
   "outputs": [],
   "source": [
    "bank['Martial']=bank['Martial'].map({'married':1,'single':0,'divorced':0}).astype('int')"
   ]
  },
  {
   "cell_type": "code",
   "execution_count": 63,
   "metadata": {},
   "outputs": [],
   "source": [
    "from sklearn.preprocessing import LabelEncoder\n",
    "le=LabelEncoder()\n",
    "bank['job']=le.fit_transform(bank['job'])"
   ]
  },
  {
   "cell_type": "code",
   "execution_count": 64,
   "metadata": {},
   "outputs": [],
   "source": [
    "bank['Contact']=le.fit_transform(bank['Contact'])"
   ]
  },
  {
   "cell_type": "code",
   "execution_count": 65,
   "metadata": {},
   "outputs": [],
   "source": [
    "bank['Month']=le.fit_transform(bank['Month'])"
   ]
  },
  {
   "cell_type": "code",
   "execution_count": 66,
   "metadata": {},
   "outputs": [],
   "source": [
    "bank['Poutcome']=le.fit_transform(bank['Poutcome'])"
   ]
  },
  {
   "cell_type": "code",
   "execution_count": 67,
   "metadata": {},
   "outputs": [],
   "source": [
    "bank['Education']=le.fit_transform(bank['Education'])"
   ]
  },
  {
   "cell_type": "code",
   "execution_count": 68,
   "metadata": {},
   "outputs": [
    {
     "data": {
      "text/html": [
       "<div>\n",
       "<style scoped>\n",
       "    .dataframe tbody tr th:only-of-type {\n",
       "        vertical-align: middle;\n",
       "    }\n",
       "\n",
       "    .dataframe tbody tr th {\n",
       "        vertical-align: top;\n",
       "    }\n",
       "\n",
       "    .dataframe thead th {\n",
       "        text-align: right;\n",
       "    }\n",
       "</style>\n",
       "<table border=\"1\" class=\"dataframe\">\n",
       "  <thead>\n",
       "    <tr style=\"text-align: right;\">\n",
       "      <th></th>\n",
       "      <th>Age</th>\n",
       "      <th>job</th>\n",
       "      <th>Martial</th>\n",
       "      <th>Education</th>\n",
       "      <th>Defaultcredit</th>\n",
       "      <th>Balance</th>\n",
       "      <th>Housing</th>\n",
       "      <th>Loan</th>\n",
       "      <th>Contact</th>\n",
       "      <th>Day</th>\n",
       "      <th>Month</th>\n",
       "      <th>Duration</th>\n",
       "      <th>Campaign</th>\n",
       "      <th>Pdays</th>\n",
       "      <th>Previous</th>\n",
       "      <th>Poutcome</th>\n",
       "      <th>Y</th>\n",
       "    </tr>\n",
       "  </thead>\n",
       "  <tbody>\n",
       "    <tr>\n",
       "      <td>0</td>\n",
       "      <td>58</td>\n",
       "      <td>4</td>\n",
       "      <td>1</td>\n",
       "      <td>2</td>\n",
       "      <td>0</td>\n",
       "      <td>2143</td>\n",
       "      <td>1</td>\n",
       "      <td>0</td>\n",
       "      <td>2</td>\n",
       "      <td>5</td>\n",
       "      <td>8</td>\n",
       "      <td>261</td>\n",
       "      <td>1</td>\n",
       "      <td>-1</td>\n",
       "      <td>0</td>\n",
       "      <td>3</td>\n",
       "      <td>0</td>\n",
       "    </tr>\n",
       "    <tr>\n",
       "      <td>1</td>\n",
       "      <td>44</td>\n",
       "      <td>9</td>\n",
       "      <td>0</td>\n",
       "      <td>1</td>\n",
       "      <td>0</td>\n",
       "      <td>29</td>\n",
       "      <td>1</td>\n",
       "      <td>0</td>\n",
       "      <td>2</td>\n",
       "      <td>5</td>\n",
       "      <td>8</td>\n",
       "      <td>151</td>\n",
       "      <td>1</td>\n",
       "      <td>-1</td>\n",
       "      <td>0</td>\n",
       "      <td>3</td>\n",
       "      <td>0</td>\n",
       "    </tr>\n",
       "  </tbody>\n",
       "</table>\n",
       "</div>"
      ],
      "text/plain": [
       "   Age  job  Martial  Education  Defaultcredit  Balance  Housing  Loan  \\\n",
       "0   58    4        1          2              0     2143        1     0   \n",
       "1   44    9        0          1              0       29        1     0   \n",
       "\n",
       "   Contact  Day  Month  Duration  Campaign  Pdays  Previous  Poutcome  Y  \n",
       "0        2    5      8       261         1     -1         0         3  0  \n",
       "1        2    5      8       151         1     -1         0         3  0  "
      ]
     },
     "execution_count": 68,
     "metadata": {},
     "output_type": "execute_result"
    }
   ],
   "source": [
    "#categorical data\n",
    "bank_num1=bank.select_dtypes(include=np.number)\n",
    "bank_num1.head(2)"
   ]
  },
  {
   "cell_type": "code",
   "execution_count": 69,
   "metadata": {},
   "outputs": [
    {
     "data": {
      "text/html": [
       "<div>\n",
       "<style scoped>\n",
       "    .dataframe tbody tr th:only-of-type {\n",
       "        vertical-align: middle;\n",
       "    }\n",
       "\n",
       "    .dataframe tbody tr th {\n",
       "        vertical-align: top;\n",
       "    }\n",
       "\n",
       "    .dataframe thead th {\n",
       "        text-align: right;\n",
       "    }\n",
       "</style>\n",
       "<table border=\"1\" class=\"dataframe\">\n",
       "  <thead>\n",
       "    <tr style=\"text-align: right;\">\n",
       "      <th></th>\n",
       "      <th>Age</th>\n",
       "      <th>job</th>\n",
       "      <th>Martial</th>\n",
       "      <th>Education</th>\n",
       "      <th>Defaultcredit</th>\n",
       "      <th>Balance</th>\n",
       "      <th>Housing</th>\n",
       "      <th>Loan</th>\n",
       "      <th>Contact</th>\n",
       "      <th>Day</th>\n",
       "      <th>Month</th>\n",
       "      <th>Duration</th>\n",
       "      <th>Campaign</th>\n",
       "      <th>Pdays</th>\n",
       "      <th>Previous</th>\n",
       "      <th>Poutcome</th>\n",
       "      <th>Y</th>\n",
       "    </tr>\n",
       "  </thead>\n",
       "  <tbody>\n",
       "    <tr>\n",
       "      <td>0</td>\n",
       "      <td>1.606965</td>\n",
       "      <td>-0.103820</td>\n",
       "      <td>0.813212</td>\n",
       "      <td>1.036362</td>\n",
       "      <td>-0.13549</td>\n",
       "      <td>0.256419</td>\n",
       "      <td>0.893915</td>\n",
       "      <td>-0.436803</td>\n",
       "      <td>1.514306</td>\n",
       "      <td>-1.298476</td>\n",
       "      <td>0.823773</td>\n",
       "      <td>0.011016</td>\n",
       "      <td>-0.569351</td>\n",
       "      <td>-0.411453</td>\n",
       "      <td>-0.25194</td>\n",
       "      <td>0.444898</td>\n",
       "      <td>-0.363983</td>\n",
       "    </tr>\n",
       "    <tr>\n",
       "      <td>1</td>\n",
       "      <td>0.288529</td>\n",
       "      <td>1.424008</td>\n",
       "      <td>-1.229691</td>\n",
       "      <td>-0.300556</td>\n",
       "      <td>-0.13549</td>\n",
       "      <td>-0.437895</td>\n",
       "      <td>0.893915</td>\n",
       "      <td>-0.436803</td>\n",
       "      <td>1.514306</td>\n",
       "      <td>-1.298476</td>\n",
       "      <td>0.823773</td>\n",
       "      <td>-0.416127</td>\n",
       "      <td>-0.569351</td>\n",
       "      <td>-0.411453</td>\n",
       "      <td>-0.25194</td>\n",
       "      <td>0.444898</td>\n",
       "      <td>-0.363983</td>\n",
       "    </tr>\n",
       "  </tbody>\n",
       "</table>\n",
       "</div>"
      ],
      "text/plain": [
       "        Age       job   Martial  Education  Defaultcredit   Balance   Housing  \\\n",
       "0  1.606965 -0.103820  0.813212   1.036362       -0.13549  0.256419  0.893915   \n",
       "1  0.288529  1.424008 -1.229691  -0.300556       -0.13549 -0.437895  0.893915   \n",
       "\n",
       "       Loan   Contact       Day     Month  Duration  Campaign     Pdays  \\\n",
       "0 -0.436803  1.514306 -1.298476  0.823773  0.011016 -0.569351 -0.411453   \n",
       "1 -0.436803  1.514306 -1.298476  0.823773 -0.416127 -0.569351 -0.411453   \n",
       "\n",
       "   Previous  Poutcome         Y  \n",
       "0  -0.25194  0.444898 -0.363983  \n",
       "1  -0.25194  0.444898 -0.363983  "
      ]
     },
     "execution_count": 69,
     "metadata": {},
     "output_type": "execute_result"
    }
   ],
   "source": [
    "#Standard scaling\n",
    "sc=StandardScaler()\n",
    "bank_final=sc.fit_transform(bank_num1)\n",
    "bank_final=pd.DataFrame(bank_final,columns=bank_num1.columns)\n",
    "bank_final.head(2)"
   ]
  },
  {
   "cell_type": "code",
   "execution_count": 70,
   "metadata": {},
   "outputs": [],
   "source": [
    "bank_target=bank.Y\n",
    "bank_feature=bank_final.drop(['Y'],1)"
   ]
  },
  {
   "cell_type": "code",
   "execution_count": 71,
   "metadata": {},
   "outputs": [
    {
     "name": "stdout",
     "output_type": "stream",
     "text": [
      "(45211,)\n",
      "(45211, 16)\n"
     ]
    }
   ],
   "source": [
    "print(bank_target.shape)\n",
    "print(bank_feature.shape)"
   ]
  },
  {
   "cell_type": "code",
   "execution_count": 72,
   "metadata": {},
   "outputs": [],
   "source": [
    "from sklearn.model_selection import train_test_split\n",
    "X=sm.add_constant(bank_feature)\n",
    "X_train,X_test,y_train,y_test=train_test_split(X,bank_target,random_state=48,test_size=0.2)\n",
    "#split the train and test data are 80% and 20%"
   ]
  },
  {
   "cell_type": "code",
   "execution_count": 73,
   "metadata": {},
   "outputs": [
    {
     "name": "stdout",
     "output_type": "stream",
     "text": [
      "(36168, 17)\n",
      "(36168,)\n",
      "(9043, 17)\n",
      "(9043,)\n"
     ]
    }
   ],
   "source": [
    "#shape of the train and test data\n",
    "print(X_train.shape)\n",
    "print(y_train.shape)\n",
    "print(X_test.shape)\n",
    "print(y_test.shape)"
   ]
  },
  {
   "cell_type": "markdown",
   "metadata": {},
   "source": [
    "# Logistic Regression"
   ]
  },
  {
   "cell_type": "code",
   "execution_count": 125,
   "metadata": {},
   "outputs": [
    {
     "name": "stdout",
     "output_type": "stream",
     "text": [
      "Optimization terminated successfully.\n",
      "         Current function value: 0.267601\n",
      "         Iterations 8\n"
     ]
    },
    {
     "data": {
      "text/html": [
       "<table class=\"simpletable\">\n",
       "<caption>Logit Regression Results</caption>\n",
       "<tr>\n",
       "  <th>Dep. Variable:</th>           <td>Y</td>        <th>  No. Observations:  </th>  <td> 36168</td> \n",
       "</tr>\n",
       "<tr>\n",
       "  <th>Model:</th>                 <td>Logit</td>      <th>  Df Residuals:      </th>  <td> 36151</td> \n",
       "</tr>\n",
       "<tr>\n",
       "  <th>Method:</th>                 <td>MLE</td>       <th>  Df Model:          </th>  <td>    16</td> \n",
       "</tr>\n",
       "<tr>\n",
       "  <th>Date:</th>            <td>Tue, 27 Oct 2020</td> <th>  Pseudo R-squ.:     </th>  <td>0.2559</td> \n",
       "</tr>\n",
       "<tr>\n",
       "  <th>Time:</th>                <td>13:59:38</td>     <th>  Log-Likelihood:    </th> <td> -9678.6</td>\n",
       "</tr>\n",
       "<tr>\n",
       "  <th>converged:</th>             <td>True</td>       <th>  LL-Null:           </th> <td> -13007.</td>\n",
       "</tr>\n",
       "<tr>\n",
       "  <th>Covariance Type:</th>     <td>nonrobust</td>    <th>  LLR p-value:       </th>  <td> 0.000</td> \n",
       "</tr>\n",
       "</table>\n",
       "<table class=\"simpletable\">\n",
       "<tr>\n",
       "        <td></td>           <th>coef</th>     <th>std err</th>      <th>z</th>      <th>P>|z|</th>  <th>[0.025</th>    <th>0.975]</th>  \n",
       "</tr>\n",
       "<tr>\n",
       "  <th>const</th>         <td>   -2.7000</td> <td>    0.026</td> <td> -102.558</td> <td> 0.000</td> <td>   -2.752</td> <td>   -2.648</td>\n",
       "</tr>\n",
       "<tr>\n",
       "  <th>Age</th>           <td>    0.0864</td> <td>    0.019</td> <td>    4.668</td> <td> 0.000</td> <td>    0.050</td> <td>    0.123</td>\n",
       "</tr>\n",
       "<tr>\n",
       "  <th>job</th>           <td>    0.0253</td> <td>    0.020</td> <td>    1.286</td> <td> 0.198</td> <td>   -0.013</td> <td>    0.064</td>\n",
       "</tr>\n",
       "<tr>\n",
       "  <th>Martial</th>       <td>   -0.1505</td> <td>    0.020</td> <td>   -7.608</td> <td> 0.000</td> <td>   -0.189</td> <td>   -0.112</td>\n",
       "</tr>\n",
       "<tr>\n",
       "  <th>Education</th>     <td>    0.1556</td> <td>    0.019</td> <td>    8.074</td> <td> 0.000</td> <td>    0.118</td> <td>    0.193</td>\n",
       "</tr>\n",
       "<tr>\n",
       "  <th>Defaultcredit</th> <td>   -0.0368</td> <td>    0.024</td> <td>   -1.561</td> <td> 0.119</td> <td>   -0.083</td> <td>    0.009</td>\n",
       "</tr>\n",
       "<tr>\n",
       "  <th>Balance</th>       <td>    0.0602</td> <td>    0.015</td> <td>    3.894</td> <td> 0.000</td> <td>    0.030</td> <td>    0.091</td>\n",
       "</tr>\n",
       "<tr>\n",
       "  <th>Housing</th>       <td>   -0.5230</td> <td>    0.021</td> <td>  -24.875</td> <td> 0.000</td> <td>   -0.564</td> <td>   -0.482</td>\n",
       "</tr>\n",
       "<tr>\n",
       "  <th>Loan</th>          <td>   -0.2472</td> <td>    0.023</td> <td>  -10.637</td> <td> 0.000</td> <td>   -0.293</td> <td>   -0.202</td>\n",
       "</tr>\n",
       "<tr>\n",
       "  <th>Contact</th>       <td>   -0.5721</td> <td>    0.027</td> <td>  -21.156</td> <td> 0.000</td> <td>   -0.625</td> <td>   -0.519</td>\n",
       "</tr>\n",
       "<tr>\n",
       "  <th>Day</th>           <td>   -0.0369</td> <td>    0.019</td> <td>   -1.911</td> <td> 0.056</td> <td>   -0.075</td> <td>    0.001</td>\n",
       "</tr>\n",
       "<tr>\n",
       "  <th>Month</th>         <td>    0.1254</td> <td>    0.019</td> <td>    6.712</td> <td> 0.000</td> <td>    0.089</td> <td>    0.162</td>\n",
       "</tr>\n",
       "<tr>\n",
       "  <th>Duration</th>      <td>    0.9934</td> <td>    0.017</td> <td>   57.019</td> <td> 0.000</td> <td>    0.959</td> <td>    1.028</td>\n",
       "</tr>\n",
       "<tr>\n",
       "  <th>Campaign</th>      <td>   -0.4040</td> <td>    0.035</td> <td>  -11.562</td> <td> 0.000</td> <td>   -0.473</td> <td>   -0.336</td>\n",
       "</tr>\n",
       "<tr>\n",
       "  <th>Pdays</th>         <td>    0.3737</td> <td>    0.028</td> <td>   13.226</td> <td> 0.000</td> <td>    0.318</td> <td>    0.429</td>\n",
       "</tr>\n",
       "<tr>\n",
       "  <th>Previous</th>      <td>    0.2013</td> <td>    0.021</td> <td>    9.667</td> <td> 0.000</td> <td>    0.160</td> <td>    0.242</td>\n",
       "</tr>\n",
       "<tr>\n",
       "  <th>Poutcome</th>      <td>    0.2225</td> <td>    0.032</td> <td>    6.928</td> <td> 0.000</td> <td>    0.160</td> <td>    0.285</td>\n",
       "</tr>\n",
       "</table>"
      ],
      "text/plain": [
       "<class 'statsmodels.iolib.summary.Summary'>\n",
       "\"\"\"\n",
       "                           Logit Regression Results                           \n",
       "==============================================================================\n",
       "Dep. Variable:                      Y   No. Observations:                36168\n",
       "Model:                          Logit   Df Residuals:                    36151\n",
       "Method:                           MLE   Df Model:                           16\n",
       "Date:                Tue, 27 Oct 2020   Pseudo R-squ.:                  0.2559\n",
       "Time:                        13:59:38   Log-Likelihood:                -9678.6\n",
       "converged:                       True   LL-Null:                       -13007.\n",
       "Covariance Type:            nonrobust   LLR p-value:                     0.000\n",
       "=================================================================================\n",
       "                    coef    std err          z      P>|z|      [0.025      0.975]\n",
       "---------------------------------------------------------------------------------\n",
       "const            -2.7000      0.026   -102.558      0.000      -2.752      -2.648\n",
       "Age               0.0864      0.019      4.668      0.000       0.050       0.123\n",
       "job               0.0253      0.020      1.286      0.198      -0.013       0.064\n",
       "Martial          -0.1505      0.020     -7.608      0.000      -0.189      -0.112\n",
       "Education         0.1556      0.019      8.074      0.000       0.118       0.193\n",
       "Defaultcredit    -0.0368      0.024     -1.561      0.119      -0.083       0.009\n",
       "Balance           0.0602      0.015      3.894      0.000       0.030       0.091\n",
       "Housing          -0.5230      0.021    -24.875      0.000      -0.564      -0.482\n",
       "Loan             -0.2472      0.023    -10.637      0.000      -0.293      -0.202\n",
       "Contact          -0.5721      0.027    -21.156      0.000      -0.625      -0.519\n",
       "Day              -0.0369      0.019     -1.911      0.056      -0.075       0.001\n",
       "Month             0.1254      0.019      6.712      0.000       0.089       0.162\n",
       "Duration          0.9934      0.017     57.019      0.000       0.959       1.028\n",
       "Campaign         -0.4040      0.035    -11.562      0.000      -0.473      -0.336\n",
       "Pdays             0.3737      0.028     13.226      0.000       0.318       0.429\n",
       "Previous          0.2013      0.021      9.667      0.000       0.160       0.242\n",
       "Poutcome          0.2225      0.032      6.928      0.000       0.160       0.285\n",
       "=================================================================================\n",
       "\"\"\""
      ]
     },
     "execution_count": 125,
     "metadata": {},
     "output_type": "execute_result"
    }
   ],
   "source": [
    "log=sm.Logit(y_train,X_train).fit()\n",
    "log.summary()"
   ]
  },
  {
   "cell_type": "code",
   "execution_count": 75,
   "metadata": {},
   "outputs": [
    {
     "data": {
      "text/plain": [
       "41327    0.072343\n",
       "3779     0.008588\n",
       "12557    0.020351\n",
       "9067     0.024011\n",
       "34161    0.116098\n",
       "dtype: float64"
      ]
     },
     "execution_count": 75,
     "metadata": {},
     "output_type": "execute_result"
    }
   ],
   "source": [
    "#y prdict probability\n",
    "y_pred_prob=log.predict(X_test)\n",
    "y_pred_prob.head()"
   ]
  },
  {
   "cell_type": "code",
   "execution_count": 76,
   "metadata": {},
   "outputs": [],
   "source": [
    "#Target variable contain 0 and 1 so decide to cuttoff with 0.5\n",
    "y_pred=[0 if x<0.5 else 1 for x in y_pred_prob]"
   ]
  },
  {
   "cell_type": "code",
   "execution_count": 77,
   "metadata": {},
   "outputs": [
    {
     "name": "stdout",
     "output_type": "stream",
     "text": [
      "0.8910759703638174\n"
     ]
    }
   ],
   "source": [
    "#Accuracy_score\n",
    "print(accuracy_score(y_test,y_pred))"
   ]
  },
  {
   "cell_type": "markdown",
   "metadata": {},
   "source": [
    "# Ensemble technique (Bagging)"
   ]
  },
  {
   "cell_type": "code",
   "execution_count": 78,
   "metadata": {},
   "outputs": [],
   "source": [
    "#ensemble technique using bagging classifier\n",
    "\n",
    "lr=LogisticRegression()\n",
    "gnb=GaussianNB()\n",
    "knn=KNeighborsClassifier()\n",
    "dt=DecisionTreeClassifier()\n",
    "bag_lr=BaggingClassifier(base_estimator=lr)\n",
    "bag_gnb=BaggingClassifier(base_estimator=gnb)\n",
    "bag_knn=BaggingClassifier(base_estimator=knn)\n",
    "bag_dt=BaggingClassifier(base_estimator=dt)"
   ]
  },
  {
   "cell_type": "code",
   "execution_count": 79,
   "metadata": {},
   "outputs": [
    {
     "data": {
      "text/plain": [
       "BaggingClassifier(base_estimator=DecisionTreeClassifier())"
      ]
     },
     "execution_count": 79,
     "metadata": {},
     "output_type": "execute_result"
    }
   ],
   "source": [
    "#fit the data\n",
    "\n",
    "lr.fit(X_train,y_train)\n",
    "gnb.fit(X_train,y_train)\n",
    "knn.fit(X_train,y_train)\n",
    "dt.fit(X_train,y_train)\n",
    "bag_lr.fit(X_train,y_train)\n",
    "bag_gnb.fit(X_train,y_train)\n",
    "bag_knn.fit(X_train,y_train)\n",
    "bag_dt.fit(X_train,y_train)"
   ]
  },
  {
   "cell_type": "code",
   "execution_count": 80,
   "metadata": {},
   "outputs": [],
   "source": [
    "#predict the data \n",
    "\n",
    "y_pred_lr=lr.predict(X_test)\n",
    "y_pred_gnb=gnb.predict(X_test)\n",
    "y_pred_knn=knn.predict(X_test)\n",
    "y_pred_dt=dt.predict(X_test)\n",
    "y_pred_bag_lr=bag_lr.predict(X_test)\n",
    "y_pred_bag_gnb=bag_gnb.predict(X_test)\n",
    "y_pred_bag_knn=bag_knn.predict(X_test)\n",
    "y_pred_bag_dt=bag_dt.predict(X_test)"
   ]
  },
  {
   "cell_type": "code",
   "execution_count": 81,
   "metadata": {},
   "outputs": [
    {
     "name": "stdout",
     "output_type": "stream",
     "text": [
      "Accuracy score of LR :        0.8910759703638174\n",
      "Accuracy score of GNB :       0.8329094327103838\n",
      "Accuracy score of KNN :       0.895388698440783\n",
      "Accuracy score of DT :        0.8732721441999336\n",
      "Accuracy score of BAG_LR :     0.891850049762247\n",
      "Accuracy score of BAG_GNB :    0.8351210881344686\n",
      "Accuracy score of BAG_KNN :    0.8952781156695787\n",
      "Accuracy score of BAG_DT :     0.8983744332632976\n"
     ]
    }
   ],
   "source": [
    "print('Accuracy score of LR :       ',accuracy_score(y_test,y_pred_lr))\n",
    "print('Accuracy score of GNB :      ',accuracy_score(y_test,y_pred_gnb))\n",
    "print('Accuracy score of KNN :      ',accuracy_score(y_test,y_pred_knn))\n",
    "print('Accuracy score of DT :       ',accuracy_score(y_test,y_pred_dt))\n",
    "print('Accuracy score of BAG_LR :    ',accuracy_score(y_test,y_pred_bag_lr))\n",
    "print('Accuracy score of BAG_GNB :   ',accuracy_score(y_test,y_pred_bag_gnb))\n",
    "print('Accuracy score of BAG_KNN :   ',accuracy_score(y_test,y_pred_bag_knn))\n",
    "print('Accuracy score of BAG_DT :    ',accuracy_score(y_test,y_pred_bag_dt))\n",
    "#Bagging of decision tree having high accuracy compare to other models"
   ]
  },
  {
   "cell_type": "code",
   "execution_count": 177,
   "metadata": {},
   "outputs": [
    {
     "name": "stdout",
     "output_type": "stream",
     "text": [
      "train_score of LinearRegression : 0.891616898916169\n",
      "test_score of LinearRegression : 0.8910759703638174\n",
      "----------------------------\n",
      "train_score of Gausian naive bayes : 0.8352687458526875\n",
      "test_score of Gausian naive bayes : 0.8329094327103838\n",
      "------------------------------\n",
      "train_score of KNN : 0.9182979429329794\n",
      "test_score of KNN : 0.895388698440783\n",
      "------------------------------\n",
      "train_score of  bagging of lr : 0.8917551426675514\n",
      "test_score of bagging of lr : 0.891850049762247\n",
      "-------------------------------\n",
      "train_score of bagging gnb : 0.8361811546118115\n",
      "test_score of bagging gnb : 0.8351210881344686\n",
      "---------------------------------\n",
      "train_score of bagging of knn : 0.9193485954434859\n",
      "test_score of bagging of knn : 0.8952781156695787\n",
      "----------------------------------\n",
      "train_score of bagging decision tree : 0.9920095111700951\n",
      "test_score of bagging decision tree : 0.8983744332632976\n"
     ]
    }
   ],
   "source": [
    "#Train and test report\n",
    "\n",
    "train_score=lr.score(X_train,y_train)\n",
    "test_score=lr.score(X_test,y_test)\n",
    "print('train_score of LinearRegression :', train_score)\n",
    "print('test_score of LinearRegression :',test_score)\n",
    "\n",
    "print('----------------------------')\n",
    "\n",
    "train_score=gnb.score(X_train,y_train)\n",
    "test_score=gnb.score(X_test,y_test)\n",
    "print('train_score of Gausian naive bayes :', train_score)\n",
    "print('test_score of Gausian naive bayes :',test_score)\n",
    "\n",
    "print('------------------------------')\n",
    "\n",
    "train_score=knn.score(X_train,y_train)\n",
    "test_score=knn.score(X_test,y_test)\n",
    "print('train_score of KNN :', train_score)\n",
    "print('test_score of KNN :',test_score)\n",
    "\n",
    "print('------------------------------')\n",
    "\n",
    "train_score=bag_lr.score(X_train,y_train)\n",
    "test_score=bag_lr.score(X_test,y_test)\n",
    "print('train_score of  bagging of lr :', train_score)\n",
    "print('test_score of bagging of lr :',test_score)\n",
    "\n",
    "print('-------------------------------')\n",
    "\n",
    "train_score=bag_gnb.score(X_train,y_train)\n",
    "test_score=bag_gnb.score(X_test,y_test)\n",
    "print('train_score of bagging gnb :', train_score)\n",
    "print('test_score of bagging gnb :',test_score)\n",
    "\n",
    "print('---------------------------------')\n",
    "\n",
    "train_score=bag_knn.score(X_train,y_train)\n",
    "test_score=bag_knn.score(X_test,y_test)\n",
    "print('train_score of bagging of knn :', train_score)\n",
    "print('test_score of bagging of knn :',test_score)\n",
    "\n",
    "print('----------------------------------')\n",
    "\n",
    "train_score=bag_dt.score(X_train,y_train)\n",
    "test_score=bag_dt.score(X_test,y_test)\n",
    "print('train_score of bagging decision tree :', train_score)\n",
    "print('test_score of bagging decision tree :',test_score)"
   ]
  },
  {
   "cell_type": "markdown",
   "metadata": {},
   "source": [
    "# Decision Tree Classifier\n"
   ]
  },
  {
   "cell_type": "code",
   "execution_count": 117,
   "metadata": {},
   "outputs": [
    {
     "name": "stdout",
     "output_type": "stream",
     "text": [
      "Accuracy score of base decisiontree:  0.8740462235983634\n"
     ]
    }
   ],
   "source": [
    "#Base model\n",
    "decisiontree=DecisionTreeClassifier(random_state=48)\n",
    "decisiontree=decisiontree.fit(X_train,y_train)\n",
    "y_pred=decisiontree.predict(X_test)\n",
    "print('Accuracy score of base decisiontree: ', accuracy_score(y_test,y_pred))"
   ]
  },
  {
   "cell_type": "code",
   "execution_count": 119,
   "metadata": {},
   "outputs": [
    {
     "name": "stdout",
     "output_type": "stream",
     "text": [
      "train_score : 1.0\n",
      "test_score : 0.8740462235983634\n"
     ]
    }
   ],
   "source": [
    "train_score=decisiontree.score(X_train,y_train)\n",
    "test_score=decisiontree.score(X_test,y_test)\n",
    "print('train_score :', train_score)\n",
    "print('test_score :',test_score)\n",
    "#overfitting model"
   ]
  },
  {
   "cell_type": "code",
   "execution_count": 118,
   "metadata": {},
   "outputs": [
    {
     "data": {
      "text/plain": [
       "{'criterion': 'gini',\n",
       " 'max_depth': 9,\n",
       " 'max_leaf_nodes': 9,\n",
       " 'min_samples_leaf': 3,\n",
       " 'min_samples_split': 3}"
      ]
     },
     "execution_count": 118,
     "metadata": {},
     "output_type": "execute_result"
    }
   ],
   "source": [
    "#Hyper parameter tuning using Gridsearchcv of decision tree\n",
    "\n",
    "tuned_param=[{'criterion':['entropy','gini'],'max_depth':[3,9],'min_samples_split':[3,9],\n",
    "              'min_samples_leaf':[3,9],'max_leaf_nodes':[3,9]}]\n",
    "dt=DecisionTreeClassifier(random_state=10)\n",
    "dt_grid=GridSearchCV(estimator=dt,param_grid=tuned_param,cv=15)\n",
    "dt_grid_model=dt_grid.fit(X_train,y_train)\n",
    "dt_grid_model.best_params_"
   ]
  },
  {
   "cell_type": "code",
   "execution_count": 151,
   "metadata": {},
   "outputs": [
    {
     "name": "stdout",
     "output_type": "stream",
     "text": [
      "Accuracy score of decision tree after tuning process: 0.8969368572376424\n"
     ]
    }
   ],
   "source": [
    "#Hyper parameter tuning\n",
    "\n",
    "dt_model=DecisionTreeClassifier(criterion='gini',max_depth=9,max_leaf_nodes=9,min_samples_leaf=3\n",
    "                                ,min_samples_split=3,random_state=48)\n",
    "dt_model.fit(X_train,y_train)\n",
    "y_pred=dt_model.predict(X_test)\n",
    "print('Accuracy score of decision tree after tuning process:', accuracy_score(y_test,y_pred))"
   ]
  },
  {
   "cell_type": "code",
   "execution_count": 152,
   "metadata": {},
   "outputs": [
    {
     "name": "stdout",
     "output_type": "stream",
     "text": [
      "train_score : 0.900575094005751\n",
      "test_score : 0.8969368572376424\n"
     ]
    }
   ],
   "source": [
    "train_score=dt_model.score(X_train,y_train)\n",
    "test_score=dt_model.score(X_test,y_test)\n",
    "print('train_score :', train_score)\n",
    "print('test_score :',test_score)\n",
    "#it seems like a good mdel"
   ]
  },
  {
   "cell_type": "code",
   "execution_count": 155,
   "metadata": {},
   "outputs": [
    {
     "data": {
      "image/png": "[encoded data removed]",
      "text/plain": [
       "<Figure size 432x288 with 1 Axes>"
      ]
     },
     "metadata": {
      "needs_background": "light"
     },
     "output_type": "display_data"
    }
   ],
   "source": [
    "#important features\n",
    "\n",
    "imp_features=pd.DataFrame({'Features':X_train.columns,'Importance':decisiontree.feature_importances_})\n",
    "imp_features=imp_features.sort_values('Importance',ascending=False)\n",
    "sb.barplot(x='Importance',y='Features',data=imp_features)\n",
    "plt.title('Feature Importance')\n",
    "plt.show()"
   ]
  },
  {
   "cell_type": "markdown",
   "metadata": {},
   "source": [
    "# Random Forest Classifier"
   ]
  },
  {
   "cell_type": "code",
   "execution_count": 110,
   "metadata": {},
   "outputs": [
    {
     "name": "stdout",
     "output_type": "stream",
     "text": [
      "0.9036824062811014\n"
     ]
    }
   ],
   "source": [
    "#base model\n",
    "random=RandomForestClassifier(random_state=48)\n",
    "random=random.fit(X_train,y_train)\n",
    "y_pred=random.predict(X_test)\n",
    "print(accuracy_score(y_test,y_pred))"
   ]
  },
  {
   "cell_type": "code",
   "execution_count": 111,
   "metadata": {},
   "outputs": [
    {
     "name": "stdout",
     "output_type": "stream",
     "text": [
      "train_score : 1.0\n",
      "test_score : 0.9036824062811014\n"
     ]
    }
   ],
   "source": [
    "train_score=random.score(X_train,y_train)\n",
    "test_score=random.score(X_test,y_test)\n",
    "print('train_score :', train_score)\n",
    "print('test_score :',test_score)\n",
    "# slightly overfitting model"
   ]
  },
  {
   "cell_type": "code",
   "execution_count": 82,
   "metadata": {},
   "outputs": [
    {
     "data": {
      "text/plain": [
       "{'criterion': 'gini',\n",
       " 'max_depth': 9,\n",
       " 'max_leaf_nodes': 9,\n",
       " 'min_samples_leaf': 3,\n",
       " 'min_samples_split': 3,\n",
       " 'n_estimators': 10}"
      ]
     },
     "execution_count": 82,
     "metadata": {},
     "output_type": "execute_result"
    }
   ],
   "source": [
    "tuned_param1=[{'n_estimators':[10,20,30],'criterion':['entropy','gini'],'max_depth':[3,9],'min_samples_split':[3,9],\n",
    "              'min_samples_leaf':[3,9],'max_leaf_nodes':[3,9]}]\n",
    "RF=RandomForestClassifier(random_state=48)\n",
    "RF_grid=GridSearchCV(estimator=RF,param_grid=tuned_param1,cv=5)\n",
    "RF_grid_model=RF_grid.fit(X_train,y_train)\n",
    "RF_grid_model.best_params_"
   ]
  },
  {
   "cell_type": "code",
   "execution_count": 148,
   "metadata": {},
   "outputs": [
    {
     "name": "stdout",
     "output_type": "stream",
     "text": [
      "Accuracy score of Randomforest after tuning process: 0.8841092557779497\n"
     ]
    }
   ],
   "source": [
    "RF=RandomForestClassifier(criterion='gini',n_estimators=10,max_depth=9,max_leaf_nodes=9,min_samples_leaf=3\n",
    "                                ,min_samples_split=3,random_state=48)\n",
    "RF.fit(X_train,y_train)\n",
    "y_pred=RF.predict(X_test)\n",
    "print('Accuracy score of Randomforest after tuning process:', accuracy_score(y_test,y_pred))"
   ]
  },
  {
   "cell_type": "code",
   "execution_count": 149,
   "metadata": {},
   "outputs": [
    {
     "name": "stdout",
     "output_type": "stream",
     "text": [
      "train_score : 0.8900962176509621\n",
      "test_score : 0.8841092557779497\n"
     ]
    }
   ],
   "source": [
    "train_score=RF.score(X_train,y_train)\n",
    "test_score=RF.score(X_test,y_test)\n",
    "print('train_score :', train_score)\n",
    "print('test_score :',test_score)\n",
    "#After doing tuning it is a not overfitting or good model"
   ]
  },
  {
   "cell_type": "code",
   "execution_count": 150,
   "metadata": {},
   "outputs": [
    {
     "data": {
      "image/png": "[encoded data removed]",
      "text/plain": [
       "<Figure size 432x288 with 1 Axes>"
      ]
     },
     "metadata": {
      "needs_background": "light"
     },
     "output_type": "display_data"
    }
   ],
   "source": [
    "imp_features=pd.DataFrame({'Features':X_train.columns,'Importance':RF.feature_importances_})\n",
    "imp_features=imp_features.sort_values('Importance',ascending=False)\n",
    "sb.barplot(x='Importance',y='Features',data=imp_features)\n",
    "plt.title('Feature Importance')\n",
    "plt.show()"
   ]
  },
  {
   "cell_type": "markdown",
   "metadata": {},
   "source": [
    "# Adaboost Classifier"
   ]
  },
  {
   "cell_type": "code",
   "execution_count": 90,
   "metadata": {},
   "outputs": [
    {
     "name": "stdout",
     "output_type": "stream",
     "text": [
      "Accuracy of Adaboost: 0.8954992812119872\n"
     ]
    }
   ],
   "source": [
    "#Base model\n",
    "\n",
    "from sklearn.ensemble import AdaBoostClassifier\n",
    "\n",
    "adaboost=AdaBoostClassifier(random_state=48)\n",
    "adaboost.fit(X_train,y_train)\n",
    "y_pred=adaboost.predict(X_test)\n",
    "print('Accuracy of Adaboost:',accuracy_score(y_test,y_pred))"
   ]
  },
  {
   "cell_type": "code",
   "execution_count": 96,
   "metadata": {},
   "outputs": [
    {
     "name": "stdout",
     "output_type": "stream",
     "text": [
      "train_score : 0.8995244414952445\n",
      "test_score : 0.8954992812119872\n"
     ]
    }
   ],
   "source": [
    "#train and test report\n",
    "\n",
    "train_score=adaboost.score(X_train,y_train)\n",
    "test_score=adaboost.score(X_test,y_test)\n",
    "print('train_score :', train_score)\n",
    "print('test_score :',test_score)\n",
    "#not overfitting"
   ]
  },
  {
   "cell_type": "code",
   "execution_count": 103,
   "metadata": {},
   "outputs": [
    {
     "data": {
      "text/plain": [
       "{'n_estimators': 40}"
      ]
     },
     "execution_count": 103,
     "metadata": {},
     "output_type": "execute_result"
    }
   ],
   "source": [
    "#hyper tuning model\n",
    "\n",
    "param=({'n_estimators':[5,10,20,25,30,40]})\n",
    "ab=AdaBoostClassifier(random_state=48)\n",
    "ab_grid=GridSearchCV(estimator=ab,param_grid=param,cv=5,scoring='accuracy')\n",
    "ab_grid.fit(X_train,y_train)\n",
    "ab_grid.best_params_"
   ]
  },
  {
   "cell_type": "code",
   "execution_count": 106,
   "metadata": {},
   "outputs": [
    {
     "name": "stdout",
     "output_type": "stream",
     "text": [
      "Accuracy of Adaboost1: 0.8936193741015149\n"
     ]
    }
   ],
   "source": [
    "adaboost1=AdaBoostClassifier(n_estimators=40,random_state=48)\n",
    "adaboost1.fit(X_train,y_train)\n",
    "y_pred=adaboost1.predict(X_test)\n",
    "print('Accuracy of Adaboost1:',accuracy_score(y_test,y_pred))"
   ]
  },
  {
   "cell_type": "code",
   "execution_count": 107,
   "metadata": {},
   "outputs": [
    {
     "name": "stdout",
     "output_type": "stream",
     "text": [
      "train_score : 0.8980314089803141\n",
      "test_score : 0.8936193741015149\n"
     ]
    }
   ],
   "source": [
    "train_score=adaboost1.score(X_train,y_train)\n",
    "test_score=adaboost1.score(X_test,y_test)\n",
    "print('train_score :', train_score)\n",
    "print('test_score :',test_score)\n",
    "#Good model"
   ]
  },
  {
   "cell_type": "code",
   "execution_count": 139,
   "metadata": {},
   "outputs": [
    {
     "data": {
      "image/png": "[encoded data removed]",
      "text/plain": [
       "<Figure size 432x288 with 1 Axes>"
      ]
     },
     "metadata": {
      "needs_background": "light"
     },
     "output_type": "display_data"
    }
   ],
   "source": [
    "#important features\n",
    "\n",
    "imp_features=pd.DataFrame({'Features':X_train.columns,'Importance':adaboost1.feature_importances_})\n",
    "imp_features=imp_features.sort_values('Importance',ascending=False)\n",
    "sb.barplot(x='Importance',y='Features',data=imp_features)\n",
    "plt.title('Feature Importance')\n",
    "plt.show()"
   ]
  },
  {
   "cell_type": "markdown",
   "metadata": {},
   "source": [
    "# Gradient Boosting"
   ]
  },
  {
   "cell_type": "code",
   "execution_count": 129,
   "metadata": {},
   "outputs": [
    {
     "name": "stdout",
     "output_type": "stream",
     "text": [
      "Accuracy score base model of gradient boosting: 0.9015813336282207\n"
     ]
    }
   ],
   "source": [
    "#Base model\n",
    "\n",
    "from sklearn.ensemble import GradientBoostingClassifier\n",
    "gradient=GradientBoostingClassifier(random_state=48)\n",
    "gradient=gradient.fit(X_train,y_train)\n",
    "y_pred=gradient.predict(X_test)\n",
    "print('Accuracy score base model of gradient boosting:', accuracy_score(y_test,y_pred))"
   ]
  },
  {
   "cell_type": "code",
   "execution_count": 130,
   "metadata": {},
   "outputs": [
    {
     "name": "stdout",
     "output_type": "stream",
     "text": [
      "train_score : 0.9093673965936739\n",
      "test_score : 0.9015813336282207\n"
     ]
    }
   ],
   "source": [
    "#train and test report\n",
    "\n",
    "train_score=gradient.score(X_train,y_train)\n",
    "test_score=gradient.score(X_test,y_test)\n",
    "print('train_score :', train_score)\n",
    "print('test_score :',test_score)"
   ]
  },
  {
   "cell_type": "code",
   "execution_count": 131,
   "metadata": {},
   "outputs": [
    {
     "data": {
      "text/plain": [
       "{'n_estimators': 40}"
      ]
     },
     "execution_count": 131,
     "metadata": {},
     "output_type": "execute_result"
    }
   ],
   "source": [
    "#hyper tuning model\n",
    "\n",
    "param=({'n_estimators':[5,10,20,25,30,40]})\n",
    "gb=GradientBoostingClassifier(random_state=48)\n",
    "gb=GridSearchCV(estimator=gb,param_grid=param,cv=5,scoring='accuracy')\n",
    "gb.fit(X_train,y_train)\n",
    "gb.best_params_"
   ]
  },
  {
   "cell_type": "code",
   "execution_count": 135,
   "metadata": {},
   "outputs": [
    {
     "name": "stdout",
     "output_type": "stream",
     "text": [
      "Accuracy of Adaboost1: 0.8936193741015149\n"
     ]
    }
   ],
   "source": [
    "gb1=GradientBoostingClassifier(n_estimators=40,random_state=48)\n",
    "gb1.fit(X_train,y_train)\n",
    "y_pred=adaboost1.predict(X_test)\n",
    "print('Accuracy of Adaboost1:',accuracy_score(y_test,y_pred))"
   ]
  },
  {
   "cell_type": "code",
   "execution_count": 136,
   "metadata": {},
   "outputs": [
    {
     "name": "stdout",
     "output_type": "stream",
     "text": [
      "train_score : 0.9044459190444591\n",
      "test_score : 0.8961627778392126\n"
     ]
    }
   ],
   "source": [
    "train_score=gb1.score(X_train,y_train)\n",
    "test_score=gb1.score(X_test,y_test)\n",
    "print('train_score :', train_score)\n",
    "print('test_score :',test_score)\n",
    "#Good model"
   ]
  },
  {
   "cell_type": "code",
   "execution_count": 138,
   "metadata": {},
   "outputs": [
    {
     "data": {
      "image/png": "[encoded data removed]",
      "text/plain": [
       "<Figure size 432x288 with 1 Axes>"
      ]
     },
     "metadata": {
      "needs_background": "light"
     },
     "output_type": "display_data"
    }
   ],
   "source": [
    "#important features\n",
    "\n",
    "imp_features=pd.DataFrame({'Features':X_train.columns,'Importance':gb1.feature_importances_})\n",
    "imp_features=imp_features.sort_values('Importance',ascending=False)\n",
    "sb.barplot(x='Importance',y='Features',data=imp_features)\n",
    "plt.title('Feature Importance')\n",
    "plt.show()"
   ]
  },
  {
   "cell_type": "markdown",
   "metadata": {},
   "source": [
    "# Stacking Classifier"
   ]
  },
  {
   "cell_type": "code",
   "execution_count": 159,
   "metadata": {},
   "outputs": [
    {
     "name": "stdout",
     "output_type": "stream",
     "text": [
      "Accuracy of Stacking calssifier: 0.8981532677208891\n"
     ]
    }
   ],
   "source": [
    "from sklearn.ensemble import StackingClassifier\n",
    "level=list()\n",
    "level.append(('lr',LogisticRegression()))\n",
    "level.append(('gnb',GaussianNB()))\n",
    "level.append(('knn',KNeighborsClassifier()))\n",
    "level.append(('dt',DecisionTreeClassifier()))\n",
    "level1=LogisticRegression()\n",
    "model=StackingClassifier(estimators=level,final_estimator=level1,cv=5)\n",
    "model.fit(X_train,y_train)\n",
    "y_pred=model.predict(X_test)\n",
    "print('Accuracy of Stacking calssifier:',accuracy_score(y_test,y_pred))"
   ]
  },
  {
   "cell_type": "code",
   "execution_count": 160,
   "metadata": {},
   "outputs": [
    {
     "name": "stdout",
     "output_type": "stream",
     "text": [
      "Accuracy of Stacking calssifier: 0.883777507464337\n"
     ]
    }
   ],
   "source": [
    "level1=GaussianNB()\n",
    "\n",
    "model=StackingClassifier(estimators=level,final_estimator=level1,cv=5)\n",
    "model.fit(X_train,y_train)\n",
    "y_pred=model.predict(X_test)\n",
    "print('Accuracy of Stacking calssifier:',accuracy_score(y_test,y_pred))"
   ]
  },
  {
   "cell_type": "markdown",
   "metadata": {},
   "source": [
    "# RESULTS"
   ]
  },
  {
   "cell_type": "code",
   "execution_count": 226,
   "metadata": {},
   "outputs": [],
   "source": [
    "result=pd.DataFrame({'Model':[lr,gnb,knn,decisiontree,dt_model,RandomForestClassifier(),RandomForestClassifier(n_estimators=10),AdaBoostClassifier(),AdaBoostClassifier(n_estimators=40),GradientBoostingClassifier(),GradientBoostingClassifier(n_estimators=40),\n",
    "                              BaggingClassifier(base_estimator=lr),BaggingClassifier(base_estimator=gnb),\n",
    "                              BaggingClassifier(base_estimator=knn),\n",
    "                               BaggingClassifier(base_estimator=dt)],\n",
    "                     'Accuracy':[0.891,0.832,0.895,0.874,0.896,0.903,0.884,0.895,0.893,0.901,0.893,0.891,0.835,0.895,0.898],\n",
    "                     'Train_score':[0.8916,0.835,0.918,1,0.900,1,0.890,0.899,0.898,0.909,0.904,0.8917,0.8361,0.919,0.992],\n",
    "                     'Test_score':[0.8910,0.832,0.895,0.874,0.896,0.903,0.884,0.895,0.893,0.901,0.896,0.890,0.8351,0.895,0.8983]})"
   ]
  },
  {
   "cell_type": "code",
   "execution_count": 227,
   "metadata": {},
   "outputs": [
    {
     "data": {
      "text/html": [
       "<div>\n",
       "<style scoped>\n",
       "    .dataframe tbody tr th:only-of-type {\n",
       "        vertical-align: middle;\n",
       "    }\n",
       "\n",
       "    .dataframe tbody tr th {\n",
       "        vertical-align: top;\n",
       "    }\n",
       "\n",
       "    .dataframe thead th {\n",
       "        text-align: right;\n",
       "    }\n",
       "</style>\n",
       "<table border=\"1\" class=\"dataframe\">\n",
       "  <thead>\n",
       "    <tr style=\"text-align: right;\">\n",
       "      <th></th>\n",
       "      <th>Model</th>\n",
       "      <th>Accuracy</th>\n",
       "      <th>Train_score</th>\n",
       "      <th>Test_score</th>\n",
       "    </tr>\n",
       "  </thead>\n",
       "  <tbody>\n",
       "    <tr>\n",
       "      <td>0</td>\n",
       "      <td>LogisticRegression()</td>\n",
       "      <td>0.891</td>\n",
       "      <td>0.8916</td>\n",
       "      <td>0.8910</td>\n",
       "    </tr>\n",
       "    <tr>\n",
       "      <td>1</td>\n",
       "      <td>GaussianNB()</td>\n",
       "      <td>0.832</td>\n",
       "      <td>0.8350</td>\n",
       "      <td>0.8320</td>\n",
       "    </tr>\n",
       "    <tr>\n",
       "      <td>2</td>\n",
       "      <td>KNeighborsClassifier()</td>\n",
       "      <td>0.895</td>\n",
       "      <td>0.9180</td>\n",
       "      <td>0.8950</td>\n",
       "    </tr>\n",
       "    <tr>\n",
       "      <td>3</td>\n",
       "      <td>DecisionTreeClassifier(random_state=48)</td>\n",
       "      <td>0.874</td>\n",
       "      <td>1.0000</td>\n",
       "      <td>0.8740</td>\n",
       "    </tr>\n",
       "    <tr>\n",
       "      <td>4</td>\n",
       "      <td>DecisionTreeClassifier(max_depth=9, max_leaf_n...</td>\n",
       "      <td>0.896</td>\n",
       "      <td>0.9000</td>\n",
       "      <td>0.8960</td>\n",
       "    </tr>\n",
       "    <tr>\n",
       "      <td>5</td>\n",
       "      <td>RandomForestClassifier()</td>\n",
       "      <td>0.903</td>\n",
       "      <td>1.0000</td>\n",
       "      <td>0.9030</td>\n",
       "    </tr>\n",
       "    <tr>\n",
       "      <td>6</td>\n",
       "      <td>RandomForestClassifier(n_estimators=10)</td>\n",
       "      <td>0.884</td>\n",
       "      <td>0.8900</td>\n",
       "      <td>0.8840</td>\n",
       "    </tr>\n",
       "    <tr>\n",
       "      <td>7</td>\n",
       "      <td>AdaBoostClassifier()</td>\n",
       "      <td>0.895</td>\n",
       "      <td>0.8990</td>\n",
       "      <td>0.8950</td>\n",
       "    </tr>\n",
       "    <tr>\n",
       "      <td>8</td>\n",
       "      <td>AdaBoostClassifier(n_estimators=40)</td>\n",
       "      <td>0.893</td>\n",
       "      <td>0.8980</td>\n",
       "      <td>0.8930</td>\n",
       "    </tr>\n",
       "    <tr>\n",
       "      <td>9</td>\n",
       "      <td>GradientBoostingClassifier()</td>\n",
       "      <td>0.901</td>\n",
       "      <td>0.9090</td>\n",
       "      <td>0.9010</td>\n",
       "    </tr>\n",
       "    <tr>\n",
       "      <td>10</td>\n",
       "      <td>GradientBoostingClassifier(n_estimators=40)</td>\n",
       "      <td>0.893</td>\n",
       "      <td>0.9040</td>\n",
       "      <td>0.8960</td>\n",
       "    </tr>\n",
       "    <tr>\n",
       "      <td>11</td>\n",
       "      <td>BaggingClassifier(base_estimator=LogisticRegre...</td>\n",
       "      <td>0.891</td>\n",
       "      <td>0.8917</td>\n",
       "      <td>0.8900</td>\n",
       "    </tr>\n",
       "    <tr>\n",
       "      <td>12</td>\n",
       "      <td>BaggingClassifier(base_estimator=GaussianNB())</td>\n",
       "      <td>0.835</td>\n",
       "      <td>0.8361</td>\n",
       "      <td>0.8351</td>\n",
       "    </tr>\n",
       "    <tr>\n",
       "      <td>13</td>\n",
       "      <td>BaggingClassifier(base_estimator=KNeighborsCla...</td>\n",
       "      <td>0.895</td>\n",
       "      <td>0.9190</td>\n",
       "      <td>0.8950</td>\n",
       "    </tr>\n",
       "    <tr>\n",
       "      <td>14</td>\n",
       "      <td>BaggingClassifier(base_estimator=DecisionTreeC...</td>\n",
       "      <td>0.898</td>\n",
       "      <td>0.9920</td>\n",
       "      <td>0.8983</td>\n",
       "    </tr>\n",
       "  </tbody>\n",
       "</table>\n",
       "</div>"
      ],
      "text/plain": [
       "                                                Model  Accuracy  Train_score  \\\n",
       "0                                LogisticRegression()     0.891       0.8916   \n",
       "1                                        GaussianNB()     0.832       0.8350   \n",
       "2                              KNeighborsClassifier()     0.895       0.9180   \n",
       "3             DecisionTreeClassifier(random_state=48)     0.874       1.0000   \n",
       "4   DecisionTreeClassifier(max_depth=9, max_leaf_n...     0.896       0.9000   \n",
       "5                            RandomForestClassifier()     0.903       1.0000   \n",
       "6             RandomForestClassifier(n_estimators=10)     0.884       0.8900   \n",
       "7                                AdaBoostClassifier()     0.895       0.8990   \n",
       "8                 AdaBoostClassifier(n_estimators=40)     0.893       0.8980   \n",
       "9                        GradientBoostingClassifier()     0.901       0.9090   \n",
       "10        GradientBoostingClassifier(n_estimators=40)     0.893       0.9040   \n",
       "11  BaggingClassifier(base_estimator=LogisticRegre...     0.891       0.8917   \n",
       "12     BaggingClassifier(base_estimator=GaussianNB())     0.835       0.8361   \n",
       "13  BaggingClassifier(base_estimator=KNeighborsCla...     0.895       0.9190   \n",
       "14  BaggingClassifier(base_estimator=DecisionTreeC...     0.898       0.9920   \n",
       "\n",
       "    Test_score  \n",
       "0       0.8910  \n",
       "1       0.8320  \n",
       "2       0.8950  \n",
       "3       0.8740  \n",
       "4       0.8960  \n",
       "5       0.9030  \n",
       "6       0.8840  \n",
       "7       0.8950  \n",
       "8       0.8930  \n",
       "9       0.9010  \n",
       "10      0.8960  \n",
       "11      0.8900  \n",
       "12      0.8351  \n",
       "13      0.8950  \n",
       "14      0.8983  "
      ]
     },
     "execution_count": 227,
     "metadata": {},
     "output_type": "execute_result"
    }
   ],
   "source": [
    "result"
   ]
  },
  {
   "cell_type": "code",
   "execution_count": null,
   "metadata": {},
   "outputs": [],
   "source": [
    "#As per the results GradientBoostingClassifier having high accuracy and good model(not over and underfitting)compare to other \n",
    "#models."
   ]
  }
 ],
 "metadata": {
  "kernelspec": {
   "display_name": "Python 3",
   "language": "python",
   "name": "python3"
  },
  "language_info": {
   "codemirror_mode": {
    "name": "ipython",
    "version": 3
   },
   "file_extension": ".py",
   "mimetype": "text/x-python",
   "name": "python",
   "nbconvert_exporter": "python",
   "pygments_lexer": "ipython3",
   "version": "3.7.4"
  }
 },
 "nbformat": 4,
 "nbformat_minor": 2
}
